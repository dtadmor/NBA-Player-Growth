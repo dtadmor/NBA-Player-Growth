{
 "cells": [
  {
   "cell_type": "markdown",
   "metadata": {},
   "source": [
    "# Importing Libraries and Data"
   ]
  },
  {
   "cell_type": "code",
   "execution_count": 1,
   "metadata": {},
   "outputs": [],
   "source": [
    "import pandas as pd"
   ]
  },
  {
   "cell_type": "code",
   "execution_count": 4,
   "metadata": {},
   "outputs": [],
   "source": [
    "advanced = pd.read_csv('./data/advanced', index_col=0)\n",
    "touches = pd.read_csv('./data/touches', index_col=0)\n",
    "drives = pd.read_csv('./data/drives', index_col=0)\n",
    "defensive_impact = pd.read_csv('./data/defensive_impact', index_col=0)\n",
    "passing = pd.read_csv('./data/passing')\n",
    "shooting_efficiency = pd.read_csv('./data/shooting_efficiency', index_col=0)\n",
    "speed_distance = pd.read_csv('./data/speed_distance', index_col=0)\n",
    "rebounding = pd.read_csv('./data/rebounding', index_col=0)\n",
    "catch_shoot = pd.read_csv('./data/catch_shoot')\n",
    "pullup_shooting = pd.read_csv('./data/pullup_shooting', index_col=0)\n",
    "elbow_touches = pd.read_csv('./data/elbow_touches', index_col=0)\n",
    "post_ups = pd.read_csv('./data/post_ups', index_col=0)\n",
    "paint_touches = pd.read_csv('./data/paint_touches', index_col=0)\n",
    "offensive_rebounding = pd.read_csv('./data/offensive_rebounding', index_col=0)\n",
    "defensive_rebounding = pd.read_csv('./data/defensive_rebounding', index_col=0)\n",
    "hustle = pd.read_csv('./data/hustle', index_col=0)"
   ]
  },
  {
   "cell_type": "markdown",
   "metadata": {},
   "source": [
    "# Looking Over the Potential Predicted Stats"
   ]
  },
  {
   "cell_type": "code",
   "execution_count": 14,
   "metadata": {},
   "outputs": [],
   "source": [
    "# Making it possible to fully view the dataframes\n",
    "pd.options.display.max_columns = 25"
   ]
  },
  {
   "cell_type": "markdown",
   "metadata": {},
   "source": [
    "### 'Action' Stats"
   ]
  },
  {
   "cell_type": "code",
   "execution_count": 18,
   "metadata": {},
   "outputs": [
    {
     "data": {
      "text/html": [
       "<div>\n",
       "<style scoped>\n",
       "    .dataframe tbody tr th:only-of-type {\n",
       "        vertical-align: middle;\n",
       "    }\n",
       "\n",
       "    .dataframe tbody tr th {\n",
       "        vertical-align: top;\n",
       "    }\n",
       "\n",
       "    .dataframe thead th {\n",
       "        text-align: right;\n",
       "    }\n",
       "</style>\n",
       "<table border=\"1\" class=\"dataframe\">\n",
       "  <thead>\n",
       "    <tr style=\"text-align: right;\">\n",
       "      <th></th>\n",
       "      <th>PLAYER_ID</th>\n",
       "      <th>PLAYER_NAME</th>\n",
       "      <th>TEAM_ID</th>\n",
       "      <th>TEAM_ABBREVIATION</th>\n",
       "      <th>GP</th>\n",
       "      <th>W</th>\n",
       "      <th>L</th>\n",
       "      <th>MIN</th>\n",
       "      <th>DRIVES</th>\n",
       "      <th>DRIVE_FGM</th>\n",
       "      <th>DRIVE_FGA</th>\n",
       "      <th>DRIVE_FG_PCT</th>\n",
       "      <th>DRIVE_FTM</th>\n",
       "      <th>DRIVE_FTA</th>\n",
       "      <th>DRIVE_FT_PCT</th>\n",
       "      <th>DRIVE_PTS</th>\n",
       "      <th>DRIVE_PTS_PCT</th>\n",
       "      <th>DRIVE_PASSES</th>\n",
       "      <th>DRIVE_PASSES_PCT</th>\n",
       "      <th>DRIVE_AST</th>\n",
       "      <th>DRIVE_AST_PCT</th>\n",
       "      <th>DRIVE_TOV</th>\n",
       "      <th>DRIVE_TOV_PCT</th>\n",
       "      <th>DRIVE_PF</th>\n",
       "      <th>DRIVE_PF_PCT</th>\n",
       "    </tr>\n",
       "  </thead>\n",
       "  <tbody>\n",
       "    <tr>\n",
       "      <th>0</th>\n",
       "      <td>201166</td>\n",
       "      <td>Aaron Brooks</td>\n",
       "      <td>1610612750</td>\n",
       "      <td>MIN</td>\n",
       "      <td>32</td>\n",
       "      <td>19</td>\n",
       "      <td>13</td>\n",
       "      <td>5.9</td>\n",
       "      <td>1.8</td>\n",
       "      <td>0.4</td>\n",
       "      <td>0.9</td>\n",
       "      <td>0.400</td>\n",
       "      <td>0.1</td>\n",
       "      <td>0.1</td>\n",
       "      <td>0.750</td>\n",
       "      <td>0.8</td>\n",
       "      <td>0.482</td>\n",
       "      <td>0.6</td>\n",
       "      <td>0.321</td>\n",
       "      <td>0.1</td>\n",
       "      <td>0.054</td>\n",
       "      <td>0.0</td>\n",
       "      <td>0.018</td>\n",
       "      <td>0.1</td>\n",
       "      <td>0.036</td>\n",
       "    </tr>\n",
       "    <tr>\n",
       "      <th>1</th>\n",
       "      <td>203932</td>\n",
       "      <td>Aaron Gordon</td>\n",
       "      <td>1610612753</td>\n",
       "      <td>ORL</td>\n",
       "      <td>58</td>\n",
       "      <td>19</td>\n",
       "      <td>39</td>\n",
       "      <td>32.9</td>\n",
       "      <td>5.2</td>\n",
       "      <td>0.9</td>\n",
       "      <td>2.5</td>\n",
       "      <td>0.379</td>\n",
       "      <td>0.7</td>\n",
       "      <td>1.0</td>\n",
       "      <td>0.700</td>\n",
       "      <td>2.8</td>\n",
       "      <td>0.538</td>\n",
       "      <td>1.2</td>\n",
       "      <td>0.233</td>\n",
       "      <td>0.3</td>\n",
       "      <td>0.066</td>\n",
       "      <td>0.5</td>\n",
       "      <td>0.093</td>\n",
       "      <td>0.5</td>\n",
       "      <td>0.100</td>\n",
       "    </tr>\n",
       "    <tr>\n",
       "      <th>2</th>\n",
       "      <td>1626151</td>\n",
       "      <td>Aaron Harrison</td>\n",
       "      <td>1610612742</td>\n",
       "      <td>DAL</td>\n",
       "      <td>9</td>\n",
       "      <td>2</td>\n",
       "      <td>7</td>\n",
       "      <td>25.9</td>\n",
       "      <td>2.4</td>\n",
       "      <td>0.4</td>\n",
       "      <td>1.2</td>\n",
       "      <td>0.364</td>\n",
       "      <td>0.0</td>\n",
       "      <td>0.0</td>\n",
       "      <td>0.000</td>\n",
       "      <td>0.9</td>\n",
       "      <td>0.364</td>\n",
       "      <td>0.7</td>\n",
       "      <td>0.273</td>\n",
       "      <td>0.1</td>\n",
       "      <td>0.045</td>\n",
       "      <td>0.0</td>\n",
       "      <td>0.000</td>\n",
       "      <td>0.0</td>\n",
       "      <td>0.000</td>\n",
       "    </tr>\n",
       "    <tr>\n",
       "      <th>3</th>\n",
       "      <td>1627846</td>\n",
       "      <td>Abdel Nader</td>\n",
       "      <td>1610612738</td>\n",
       "      <td>BOS</td>\n",
       "      <td>47</td>\n",
       "      <td>32</td>\n",
       "      <td>15</td>\n",
       "      <td>11.1</td>\n",
       "      <td>2.2</td>\n",
       "      <td>0.3</td>\n",
       "      <td>1.0</td>\n",
       "      <td>0.304</td>\n",
       "      <td>0.1</td>\n",
       "      <td>0.1</td>\n",
       "      <td>0.667</td>\n",
       "      <td>0.7</td>\n",
       "      <td>0.311</td>\n",
       "      <td>0.6</td>\n",
       "      <td>0.291</td>\n",
       "      <td>0.2</td>\n",
       "      <td>0.078</td>\n",
       "      <td>0.3</td>\n",
       "      <td>0.117</td>\n",
       "      <td>0.1</td>\n",
       "      <td>0.029</td>\n",
       "    </tr>\n",
       "    <tr>\n",
       "      <th>4</th>\n",
       "      <td>203940</td>\n",
       "      <td>Adreian Payne</td>\n",
       "      <td>1610612753</td>\n",
       "      <td>ORL</td>\n",
       "      <td>5</td>\n",
       "      <td>0</td>\n",
       "      <td>5</td>\n",
       "      <td>8.5</td>\n",
       "      <td>0.2</td>\n",
       "      <td>0.2</td>\n",
       "      <td>0.2</td>\n",
       "      <td>1.000</td>\n",
       "      <td>0.0</td>\n",
       "      <td>0.0</td>\n",
       "      <td>0.000</td>\n",
       "      <td>0.4</td>\n",
       "      <td>2.000</td>\n",
       "      <td>0.0</td>\n",
       "      <td>0.000</td>\n",
       "      <td>0.0</td>\n",
       "      <td>0.000</td>\n",
       "      <td>0.0</td>\n",
       "      <td>0.000</td>\n",
       "      <td>0.0</td>\n",
       "      <td>0.000</td>\n",
       "    </tr>\n",
       "  </tbody>\n",
       "</table>\n",
       "</div>"
      ],
      "text/plain": [
       "   PLAYER_ID     PLAYER_NAME     TEAM_ID TEAM_ABBREVIATION  GP   W   L   MIN  \\\n",
       "0     201166    Aaron Brooks  1610612750               MIN  32  19  13   5.9   \n",
       "1     203932    Aaron Gordon  1610612753               ORL  58  19  39  32.9   \n",
       "2    1626151  Aaron Harrison  1610612742               DAL   9   2   7  25.9   \n",
       "3    1627846     Abdel Nader  1610612738               BOS  47  32  15  11.1   \n",
       "4     203940   Adreian Payne  1610612753               ORL   5   0   5   8.5   \n",
       "\n",
       "   DRIVES  DRIVE_FGM  DRIVE_FGA  DRIVE_FG_PCT  DRIVE_FTM  DRIVE_FTA  \\\n",
       "0     1.8        0.4        0.9         0.400        0.1        0.1   \n",
       "1     5.2        0.9        2.5         0.379        0.7        1.0   \n",
       "2     2.4        0.4        1.2         0.364        0.0        0.0   \n",
       "3     2.2        0.3        1.0         0.304        0.1        0.1   \n",
       "4     0.2        0.2        0.2         1.000        0.0        0.0   \n",
       "\n",
       "   DRIVE_FT_PCT  DRIVE_PTS  DRIVE_PTS_PCT  DRIVE_PASSES  DRIVE_PASSES_PCT  \\\n",
       "0         0.750        0.8          0.482           0.6             0.321   \n",
       "1         0.700        2.8          0.538           1.2             0.233   \n",
       "2         0.000        0.9          0.364           0.7             0.273   \n",
       "3         0.667        0.7          0.311           0.6             0.291   \n",
       "4         0.000        0.4          2.000           0.0             0.000   \n",
       "\n",
       "   DRIVE_AST  DRIVE_AST_PCT  DRIVE_TOV  DRIVE_TOV_PCT  DRIVE_PF  DRIVE_PF_PCT  \n",
       "0        0.1          0.054        0.0          0.018       0.1         0.036  \n",
       "1        0.3          0.066        0.5          0.093       0.5         0.100  \n",
       "2        0.1          0.045        0.0          0.000       0.0         0.000  \n",
       "3        0.2          0.078        0.3          0.117       0.1         0.029  \n",
       "4        0.0          0.000        0.0          0.000       0.0         0.000  "
      ]
     },
     "execution_count": 18,
     "metadata": {},
     "output_type": "execute_result"
    }
   ],
   "source": [
    "drives.head()"
   ]
  },
  {
   "cell_type": "code",
   "execution_count": 17,
   "metadata": {},
   "outputs": [
    {
     "ename": "SyntaxError",
     "evalue": "invalid syntax (<ipython-input-17-a781238e4445>, line 1)",
     "output_type": "error",
     "traceback": [
      "\u001b[0;36m  File \u001b[0;32m\"<ipython-input-17-a781238e4445>\"\u001b[0;36m, line \u001b[0;32m1\u001b[0m\n\u001b[0;31m    drives['DRIVE_FGM']*drives['DRIVE_FG_PCT']/drives['DRIVE_FGA'] +\u001b[0m\n\u001b[0m                                                                    ^\u001b[0m\n\u001b[0;31mSyntaxError\u001b[0m\u001b[0;31m:\u001b[0m invalid syntax\n"
     ]
    }
   ],
   "source": [
    "drives['DRIVE_FGM']*drives['DRIVE_FG_PCT']/drives['DRIVE_FGA'] + (\n",
    "    drives['DRIVE_FTM']*drives['DRIVE_FT_PCT']/drives['DRIVE_FTA']) + (\n",
    "    drives['DRIVE_FGM']*drives['DRIVE_FG_PCT']/drives['DRIVE_FGA']\n",
    ")"
   ]
  },
  {
   "cell_type": "code",
   "execution_count": 23,
   "metadata": {},
   "outputs": [
    {
     "data": {
      "text/plain": [
       "0.003926699307122114"
      ]
     },
     "execution_count": 23,
     "metadata": {},
     "output_type": "execute_result"
    }
   ],
   "source": [
    "(drives['DRIVE_PTS']/drives['DRIVES'] - drives['DRIVE_PTS_PCT']).mean()"
   ]
  },
  {
   "cell_type": "markdown",
   "metadata": {},
   "source": [
    "### Touches"
   ]
  },
  {
   "cell_type": "code",
   "execution_count": null,
   "metadata": {},
   "outputs": [],
   "source": []
  },
  {
   "cell_type": "markdown",
   "metadata": {},
   "source": [
    "What do I need\n",
    "\n",
    "- Drives (rate compared to minutes or posessions, ppp (assists*avg points from assists + actual points - turnovers*avg points from turnovers)\n",
    "\n",
    "GET THIS FROM BBALL REFERENCE\n",
    "\n",
    "For assists (3s from AST * 3 + 2s from AST * 2 /AST)\n",
    "\n",
    "3FG% * 3FGA% * 3FG%AST = 3s from AST\n",
    "2FG% * 2FGA% * 2FG%AST = 2s from AST\n",
    "ASTs = 3's from AST + 2s from AST\n",
    "\n",
    "\n",
    "FROM NBA.COM TEAM STATS GENERAL -> MISC and from GENERAL -> TRADITIONAL\n",
    "Sum(Pts Off TO) / Sum(TO)\n",
    "\n"
   ]
  },
  {
   "cell_type": "code",
   "execution_count": 26,
   "metadata": {},
   "outputs": [
    {
     "data": {
      "text/plain": [
       "0.5211313131313141"
      ]
     },
     "execution_count": 26,
     "metadata": {},
     "output_type": "execute_result"
    }
   ],
   "source": [
    "(shooting_efficiency['POINTS'] - (shooting_efficiency['DRIVE_PTS'] + shooting_efficiency['CATCH_SHOOT_PTS'] + shooting_efficiency['PULL_UP_PTS'] + shooting_efficiency['PAINT_TOUCH_PTS'] + shooting_efficiency['POST_TOUCH_PTS'] + shooting_efficiency['ELBOW_TOUCH_PTS'])).mean()"
   ]
  },
  {
   "cell_type": "code",
   "execution_count": null,
   "metadata": {},
   "outputs": [],
   "source": []
  }
 ],
 "metadata": {
  "kernelspec": {
   "display_name": "Python [conda env:dsi]",
   "language": "python",
   "name": "conda-env-dsi-py"
  },
  "language_info": {
   "codemirror_mode": {
    "name": "ipython",
    "version": 3
   },
   "file_extension": ".py",
   "mimetype": "text/x-python",
   "name": "python",
   "nbconvert_exporter": "python",
   "pygments_lexer": "ipython3",
   "version": "3.6.5"
  }
 },
 "nbformat": 4,
 "nbformat_minor": 2
}
