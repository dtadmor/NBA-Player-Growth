{
 "cells": [
  {
   "cell_type": "markdown",
   "metadata": {},
   "source": [
    "# Post-Up EDA and Model\n",
    "# EDA for Predictive Stats\n",
    "In this notebook, I will explore the relationships of different player stats and their future rates and effectiveness in the selected categories (post-ups, drives, catch and shoot, and pull-ups.  \n",
    "\n",
    "Goals:\n",
    "- Create features based on previous years\n",
    "- Look for what offensive stats might best predict offensive output\n",
    "\n",
    "Conclusions:  \n",
    "-"
   ]
  },
  {
   "cell_type": "markdown",
   "metadata": {},
   "source": [
    "## 1. Importing Libraries and Data"
   ]
  },
  {
   "cell_type": "code",
   "execution_count": 107,
   "metadata": {},
   "outputs": [],
   "source": [
    "# Importing libraries\n",
    "import pandas as pd\n",
    "import seaborn as sns\n",
    "import matplotlib.pyplot as plt\n",
    "import numpy as np\n",
    "from sklearn.model_selection import train_test_split, GridSearchCV, cross_val_score, KFold\n",
    "from sklearn.feature_selection import SelectFromModel, SelectKBest, RFECV, RFE, VarianceThreshold, f_regression\n",
    "from sklearn.preprocessing import PolynomialFeatures, StandardScaler\n",
    "from sklearn.linear_model import LinearRegression, Ridge, Lasso, ElasticNet\n",
    "from sklearn.ensemble import AdaBoostRegressor, RandomForestRegressor\n",
    "from sklearn.metrics import mean_squared_error, mean_absolute_error\n",
    "from dictionaries import stat_types\n",
    "from itertools import combinations"
   ]
  },
  {
   "cell_type": "code",
   "execution_count": 22,
   "metadata": {},
   "outputs": [],
   "source": [
    "# Importing data\n",
    "master_df = pd.read_csv('./data/master_df', index_col=0)"
   ]
  },
  {
   "cell_type": "markdown",
   "metadata": {},
   "source": [
    "## 2. Feature Engingeering\n",
    "#### Adding rate categories"
   ]
  },
  {
   "cell_type": "code",
   "execution_count": 23,
   "metadata": {},
   "outputs": [],
   "source": [
    "# Creating rate columns for appropriate features\n",
    "for column in stat_types['totals']:\n",
    "    master_df[column + '_PER_MIN'] = master_df[column] / master_df['TOTAL_MIN']\n",
    "\n",
    "for column in stat_types['game_totals']:\n",
    "    master_df[column + '_PER_MIN'] = master_df[column] / master_df['MIN']"
   ]
  },
  {
   "cell_type": "code",
   "execution_count": 24,
   "metadata": {},
   "outputs": [],
   "source": [
    "# Creating height to weight ratio\n",
    "master_df['SKINNY'] = master_df['PLAYER_HEIGHT_INCHES'] / master_df['PLAYER_WEIGHT']"
   ]
  },
  {
   "cell_type": "code",
   "execution_count": 25,
   "metadata": {},
   "outputs": [],
   "source": [
    "# Creating percent of post-ups that end in a shot\n",
    "master_df['POST_TOUCH_FGA_PCT'] = master_df['POST_TOUCH_FGA'] / master_df['POST_TOUCHES']"
   ]
  },
  {
   "cell_type": "code",
   "execution_count": null,
   "metadata": {},
   "outputs": [],
   "source": []
  },
  {
   "cell_type": "code",
   "execution_count": 26,
   "metadata": {
    "scrolled": true
   },
   "outputs": [
    {
     "data": {
      "image/png": "[encoded data removed]",
      "text/plain": [
       "<Figure size 432x288 with 1 Axes>"
      ]
     },
     "metadata": {},
     "output_type": "display_data"
    }
   ],
   "source": [
    "plt.plot(data.set_index('AGE')[['POST_TOUCH_EV', 'POST_TOUCH_RATE']].product(axis=1).groupby('AGE').mean());"
   ]
  },
  {
   "cell_type": "markdown",
   "metadata": {},
   "source": [
    "## 2. Create Train, Validate, and Test Sets\n",
    "#### Create X and y"
   ]
  },
  {
   "cell_type": "code",
   "execution_count": 27,
   "metadata": {},
   "outputs": [],
   "source": [
    "# Saving the data for all player seasons where they had at least 50 post-ups\n",
    "post_index = master_df[(master_df['POST_TOUCHES'] * master_df['GP']) >= 50].index\n",
    "data = master_df.loc[post_index]"
   ]
  },
  {
   "cell_type": "code",
   "execution_count": 28,
   "metadata": {},
   "outputs": [],
   "source": [
    "# Function to get future or past data for a player\n",
    "def shift_data(df, on, columns, prefix='TARGET_', how=None, amount=1):\n",
    "    \n",
    "    # Create a copy of the df so as to not mess with the original df\n",
    "    new_df = df.copy()\n",
    "        \n",
    "    # If no specific method is used\n",
    "    if how == None:\n",
    "        \n",
    "        # For each value, filter the df and shift the columns the specified amount\n",
    "        for value in df[on].unique():\n",
    "            index = df[df[on]==value].index\n",
    "            \n",
    "            for column in columns:\n",
    "                new_df.loc[index, prefix+column] = df.loc[index, column].shift(amount)\n",
    "    \n",
    "    return new_df"
   ]
  },
  {
   "cell_type": "code",
   "execution_count": 29,
   "metadata": {},
   "outputs": [],
   "source": [
    "# Matching player data with the target data in the following year\n",
    "data = shift_data(data, 'PLAYER_ID', ['POST_TOUCH_EV'])"
   ]
  },
  {
   "cell_type": "code",
   "execution_count": 30,
   "metadata": {},
   "outputs": [],
   "source": [
    "# Setting up the initial X and y\n",
    "y = data.loc[:, ['TARGET_POST_TOUCH_EV']]\n",
    "X = data.drop(columns='TARGET_POST_TOUCH_EV')"
   ]
  },
  {
   "cell_type": "markdown",
   "metadata": {},
   "source": [
    "#### Splitting X and y into train, validate, and test sets"
   ]
  },
  {
   "cell_type": "code",
   "execution_count": 31,
   "metadata": {},
   "outputs": [],
   "source": [
    "def data_split(X, y, category, test_size=.2, validate_size=.2):\n",
    "\n",
    "    # Dropping players that don't have a target\n",
    "    drop_index = y[y['TARGET_' + category].isna()].index\n",
    "    y.drop(drop_index, inplace=True)\n",
    "    X.drop(drop_index, inplace=True)\n",
    "    \n",
    "    # Dropping the rows when the player has NANs for that category in the current season\n",
    "    X = X[~X[category].isna()]\n",
    "    index = X.index\n",
    "    y = y.loc[index]\n",
    "    \n",
    "    # Determining what to set 'test_size' in the split for the validation set\n",
    "    validate_size = validate_size/(1 - test_size)\n",
    "    \n",
    "    # Creating the train, validate, and test from X and y.\n",
    "    X_train, X_test, y_train, y_test = train_test_split(X, y, test_size=test_size)\n",
    "    X_train, X_validate, y_train, y_validate = train_test_split(X_train, y_train, test_size=validate_size)\n",
    "    \n",
    "    return X_train, X_validate, X_test, y_train, y_validate, y_test"
   ]
  },
  {
   "cell_type": "code",
   "execution_count": 32,
   "metadata": {},
   "outputs": [],
   "source": [
    "# Creating the train, validate, and test sets for post-up expected value\n",
    "X_train, X_validate, X_test, y_train, y_validate, y_test = data_split(X, y, 'POST_TOUCH_EV')"
   ]
  },
  {
   "cell_type": "code",
   "execution_count": 33,
   "metadata": {},
   "outputs": [],
   "source": [
    "# You should likely determine some minimum threshhold to remove players.\n",
    "# For example, did they play fewer than 100 minutes in the season.\n",
    "# It can be really small, but it should remove players that did not play"
   ]
  },
  {
   "cell_type": "markdown",
   "metadata": {},
   "source": [
    "## 3. Post-Ups Expected Value EDA\n",
    "### Determine Features Using Just the Previous Year"
   ]
  },
  {
   "cell_type": "code",
   "execution_count": 34,
   "metadata": {},
   "outputs": [],
   "source": [
    "def corr_plots(X, y, columns, cols=3):\n",
    "\n",
    "    n = len(columns)\n",
    "    rows = (n + cols - 1)//cols\n",
    "    plt.figure(figsize=(5*cols, 5*rows))\n",
    "    plt.subplots_adjust(hspace=.3, wspace=.3)\n",
    "    for i, column in enumerate(columns):\n",
    "        plt.subplot(rows, cols, i+1)\n",
    "        plt.scatter(X[column], y)\n",
    "        plt.xlabel(column)\n",
    "        plt.ylabel(y.name)"
   ]
  },
  {
   "cell_type": "code",
   "execution_count": 68,
   "metadata": {},
   "outputs": [],
   "source": [
    "# Function for finding feautres highly correlated with the target\n",
    "def corr_finder(X, y, cutoff, size=None):\n",
    "    \n",
    "    # Finding the numeric columns\n",
    "    numeric_columns = X.select_dtypes(['float', 'int']).columns\n",
    "    \n",
    "    # Creating a df of correlations (rows are predictive features, columns are target features)\n",
    "    df = pd.concat([X,y], axis=1).corr().loc[numeric_columns, y.columns]\n",
    "    \n",
    "    # Creating a blank features list\n",
    "#     corr_features = []\n",
    "        \n",
    "    feature = y.columns[0]\n",
    "    \n",
    "    # Saving the better correlated predictive features\n",
    "    corr_features = list(df[abs(df[feature]) > cutoff].abs().sort_values(feature, ascending=False).index)\n",
    "    \n",
    "    # Making sure the number of correlated features is not greater than the 'size'\n",
    "    if size:\n",
    "        if len(corr_features) > size:\n",
    "            corr_features = corr_features[:size]\n",
    "        \n",
    "    return corr_features"
   ]
  },
  {
   "cell_type": "code",
   "execution_count": 76,
   "metadata": {},
   "outputs": [],
   "source": [
    "# Looking for features with the highest correlation with the target\n",
    "corr_features = corr_finder(X_train, y_train, .25, 10)"
   ]
  },
  {
   "cell_type": "code",
   "execution_count": 80,
   "metadata": {},
   "outputs": [],
   "source": [
    "def corr_plots(X, y, columns, cols=3):\n",
    "\n",
    "    n = len(columns)\n",
    "    rows = (n + cols - 1)//cols\n",
    "    plt.figure(figsize=(5*cols, 5*rows))\n",
    "    plt.subplots_adjust(hspace=.3, wspace=.3)\n",
    "    for i, column in enumerate(columns):\n",
    "        plt.subplot(rows, cols, i+1)\n",
    "        plt.scatter(X[column], y)\n",
    "        plt.xlabel(column)\n",
    "        plt.ylabel(y.columns[0])\n",
    "        \n",
    "def box_plots(X, y, columns, cols=3):\n",
    "    \n",
    "    n = len(columns)\n",
    "    rows = (n + cols - 1)//cols\n",
    "    plt.figure(figsize=(5*cols, 5*rows))\n",
    "    plt.subplots_adjust(hspace=.3, wspace=.3)\n",
    "    for i, column in enumerate(columns):\n",
    "        plt.subplot(rows, cols, i+1)\n",
    "        sns.boxplot(x=column, y=y.name, data=X)\n",
    "        plt.xlabel(column)\n",
    "        plt.ylabel(y.columns[0]);"
   ]
  },
  {
   "cell_type": "code",
   "execution_count": 112,
   "metadata": {},
   "outputs": [
    {
     "data": {
      "text/plain": [
       "['AST_TO',\n",
       " 'FT_PCT',\n",
       " 'PAINT_TOUCHES_PER_MIN',\n",
       " 'PAINT_TOUCH_FGA_PER_MIN',\n",
       " 'OREB_CHANCES_PER_MIN',\n",
       " 'AST_ADJ_PER_MIN',\n",
       " 'PAINT_TOUCH_TOV_PER_MIN',\n",
       " 'AST_POINTS_CREATED_PER_MIN',\n",
       " 'OPEN_FGA_PER_MIN',\n",
       " 'PAINT_TOUCH_FGM_PER_MIN']"
      ]
     },
     "execution_count": 112,
     "metadata": {},
     "output_type": "execute_result"
    }
   ],
   "source": [
    "corr_features"
   ]
  },
  {
   "cell_type": "code",
   "execution_count": 81,
   "metadata": {
    "scrolled": false
   },
   "outputs": [
    {
     "data": {
      "image/png": "[encoded data removed]",
      "text/plain": [
       "<Figure size 1080x1440 with 10 Axes>"
      ]
     },
     "metadata": {},
     "output_type": "display_data"
    }
   ],
   "source": [
    "corr_plots(X_train, y_train, corr_features);"
   ]
  },
  {
   "cell_type": "code",
   "execution_count": null,
   "metadata": {},
   "outputs": [],
   "source": []
  },
  {
   "cell_type": "code",
   "execution_count": 94,
   "metadata": {},
   "outputs": [],
   "source": [
    "poly = PolynomialFeatures(degree=2, interaction_only=False, include_bias=False)\n",
    "X_train_poly = poly.fit_transform(X_train[corr_features])\n",
    "X_validate_poly = poly.transform(X_validate[corr_features])"
   ]
  },
  {
   "cell_type": "code",
   "execution_count": 95,
   "metadata": {},
   "outputs": [],
   "source": [
    "scaler = StandardScaler()\n",
    "X_train_scaled = scaler.fit_transform(X_train_poly)\n",
    "X_validate_scaled = scaler.transform(X_validate_poly)"
   ]
  },
  {
   "cell_type": "code",
   "execution_count": 102,
   "metadata": {},
   "outputs": [
    {
     "name": "stdout",
     "output_type": "stream",
     "text": [
      "Fitting 5 folds for each of 100 candidates, totalling 500 fits\n"
     ]
    },
    {
     "name": "stderr",
     "output_type": "stream",
     "text": [
      "[Parallel(n_jobs=1)]: Done 500 out of 500 | elapsed:    1.0s finished\n"
     ]
    },
    {
     "data": {
      "text/plain": [
       "(0.24325779101572076, 0.01187785641384631)"
      ]
     },
     "execution_count": 102,
     "metadata": {},
     "output_type": "execute_result"
    }
   ],
   "source": [
    "ridge = Ridge()\n",
    "kfolds = KFold(n_splits=5, shuffle=True)\n",
    "param_grid = {\n",
    "    'alpha': np.logspace(-1,3,100)\n",
    "}\n",
    "model = GridSearchCV(ridge, param_grid, cv=kfolds, verbose=1)\n",
    "model.fit(X_train_scaled, y_train)\n",
    "model.score(X_train_scaled, y_train), model.score(X_validate_scaled, y_validate)"
   ]
  },
  {
   "cell_type": "code",
   "execution_count": 104,
   "metadata": {},
   "outputs": [
    {
     "name": "stdout",
     "output_type": "stream",
     "text": [
      "Fitting 5 folds for each of 100 candidates, totalling 500 fits\n"
     ]
    },
    {
     "name": "stderr",
     "output_type": "stream",
     "text": [
      "[Parallel(n_jobs=1)]: Done 500 out of 500 | elapsed:    0.9s finished\n"
     ]
    },
    {
     "data": {
      "text/plain": [
       "(0.25331668187793466, 0.014059078326793206)"
      ]
     },
     "execution_count": 104,
     "metadata": {},
     "output_type": "execute_result"
    }
   ],
   "source": [
    "lasso = Lasso()\n",
    "kfolds = KFold(n_splits=5, shuffle=True)\n",
    "param_grid = {\n",
    "    'alpha': np.linspace(0.01,1,100)\n",
    "}\n",
    "model = GridSearchCV(lasso, param_grid, cv=kfolds, verbose=1)\n",
    "model.fit(X_train_scaled, y_train)\n",
    "model.score(X_train_scaled, y_train), model.score(X_validate_scaled, y_validate)"
   ]
  },
  {
   "cell_type": "code",
   "execution_count": 106,
   "metadata": {},
   "outputs": [
    {
     "name": "stdout",
     "output_type": "stream",
     "text": [
      "Fitting 5 folds for each of 700 candidates, totalling 3500 fits\n"
     ]
    },
    {
     "name": "stderr",
     "output_type": "stream",
     "text": [
      "[Parallel(n_jobs=1)]: Done 3500 out of 3500 | elapsed:    6.2s finished\n"
     ]
    },
    {
     "data": {
      "text/plain": [
       "(0.2514884001439247, 0.01807642363762585)"
      ]
     },
     "execution_count": 106,
     "metadata": {},
     "output_type": "execute_result"
    }
   ],
   "source": [
    "elastic = ElasticNet()\n",
    "kfolds = KFold(n_splits=5, shuffle=True)\n",
    "param_grid = {\n",
    "    'alpha': np.logspace(-1,3,100),\n",
    "    'l1_ratio': [.1, .5, .7, .9, .95, .99, 1]\n",
    "}\n",
    "model = GridSearchCV(elastic, param_grid, cv=kfolds, verbose=1)\n",
    "model.fit(X_train_scaled, y_train)\n",
    "model.score(X_train_scaled, y_train), model.score(X_validate_scaled, y_validate)"
   ]
  },
  {
   "cell_type": "code",
   "execution_count": 111,
   "metadata": {},
   "outputs": [
    {
     "name": "stdout",
     "output_type": "stream",
     "text": [
      "Fitting 5 folds for each of 4 candidates, totalling 20 fits\n"
     ]
    },
    {
     "name": "stderr",
     "output_type": "stream",
     "text": [
      "/anaconda3/envs/dsi/lib/python3.6/site-packages/sklearn/utils/validation.py:578: DataConversionWarning: A column-vector y was passed when a 1d array was expected. Please change the shape of y to (n_samples, ), for example using ravel().\n",
      "  y = column_or_1d(y, warn=True)\n",
      "/anaconda3/envs/dsi/lib/python3.6/site-packages/sklearn/utils/validation.py:578: DataConversionWarning: A column-vector y was passed when a 1d array was expected. Please change the shape of y to (n_samples, ), for example using ravel().\n",
      "  y = column_or_1d(y, warn=True)\n",
      "/anaconda3/envs/dsi/lib/python3.6/site-packages/sklearn/utils/validation.py:578: DataConversionWarning: A column-vector y was passed when a 1d array was expected. Please change the shape of y to (n_samples, ), for example using ravel().\n",
      "  y = column_or_1d(y, warn=True)\n",
      "/anaconda3/envs/dsi/lib/python3.6/site-packages/sklearn/utils/validation.py:578: DataConversionWarning: A column-vector y was passed when a 1d array was expected. Please change the shape of y to (n_samples, ), for example using ravel().\n",
      "  y = column_or_1d(y, warn=True)\n",
      "/anaconda3/envs/dsi/lib/python3.6/site-packages/sklearn/utils/validation.py:578: DataConversionWarning: A column-vector y was passed when a 1d array was expected. Please change the shape of y to (n_samples, ), for example using ravel().\n",
      "  y = column_or_1d(y, warn=True)\n",
      "/anaconda3/envs/dsi/lib/python3.6/site-packages/sklearn/utils/validation.py:578: DataConversionWarning: A column-vector y was passed when a 1d array was expected. Please change the shape of y to (n_samples, ), for example using ravel().\n",
      "  y = column_or_1d(y, warn=True)\n",
      "/anaconda3/envs/dsi/lib/python3.6/site-packages/sklearn/utils/validation.py:578: DataConversionWarning: A column-vector y was passed when a 1d array was expected. Please change the shape of y to (n_samples, ), for example using ravel().\n",
      "  y = column_or_1d(y, warn=True)\n",
      "/anaconda3/envs/dsi/lib/python3.6/site-packages/sklearn/utils/validation.py:578: DataConversionWarning: A column-vector y was passed when a 1d array was expected. Please change the shape of y to (n_samples, ), for example using ravel().\n",
      "  y = column_or_1d(y, warn=True)\n",
      "/anaconda3/envs/dsi/lib/python3.6/site-packages/sklearn/utils/validation.py:578: DataConversionWarning: A column-vector y was passed when a 1d array was expected. Please change the shape of y to (n_samples, ), for example using ravel().\n",
      "  y = column_or_1d(y, warn=True)\n",
      "/anaconda3/envs/dsi/lib/python3.6/site-packages/sklearn/utils/validation.py:578: DataConversionWarning: A column-vector y was passed when a 1d array was expected. Please change the shape of y to (n_samples, ), for example using ravel().\n",
      "  y = column_or_1d(y, warn=True)\n",
      "/anaconda3/envs/dsi/lib/python3.6/site-packages/sklearn/utils/validation.py:578: DataConversionWarning: A column-vector y was passed when a 1d array was expected. Please change the shape of y to (n_samples, ), for example using ravel().\n",
      "  y = column_or_1d(y, warn=True)\n",
      "/anaconda3/envs/dsi/lib/python3.6/site-packages/sklearn/utils/validation.py:578: DataConversionWarning: A column-vector y was passed when a 1d array was expected. Please change the shape of y to (n_samples, ), for example using ravel().\n",
      "  y = column_or_1d(y, warn=True)\n",
      "/anaconda3/envs/dsi/lib/python3.6/site-packages/sklearn/utils/validation.py:578: DataConversionWarning: A column-vector y was passed when a 1d array was expected. Please change the shape of y to (n_samples, ), for example using ravel().\n",
      "  y = column_or_1d(y, warn=True)\n",
      "/anaconda3/envs/dsi/lib/python3.6/site-packages/sklearn/utils/validation.py:578: DataConversionWarning: A column-vector y was passed when a 1d array was expected. Please change the shape of y to (n_samples, ), for example using ravel().\n",
      "  y = column_or_1d(y, warn=True)\n",
      "/anaconda3/envs/dsi/lib/python3.6/site-packages/sklearn/utils/validation.py:578: DataConversionWarning: A column-vector y was passed when a 1d array was expected. Please change the shape of y to (n_samples, ), for example using ravel().\n",
      "  y = column_or_1d(y, warn=True)\n",
      "/anaconda3/envs/dsi/lib/python3.6/site-packages/sklearn/utils/validation.py:578: DataConversionWarning: A column-vector y was passed when a 1d array was expected. Please change the shape of y to (n_samples, ), for example using ravel().\n",
      "  y = column_or_1d(y, warn=True)\n",
      "/anaconda3/envs/dsi/lib/python3.6/site-packages/sklearn/utils/validation.py:578: DataConversionWarning: A column-vector y was passed when a 1d array was expected. Please change the shape of y to (n_samples, ), for example using ravel().\n",
      "  y = column_or_1d(y, warn=True)\n",
      "/anaconda3/envs/dsi/lib/python3.6/site-packages/sklearn/utils/validation.py:578: DataConversionWarning: A column-vector y was passed when a 1d array was expected. Please change the shape of y to (n_samples, ), for example using ravel().\n",
      "  y = column_or_1d(y, warn=True)\n",
      "/anaconda3/envs/dsi/lib/python3.6/site-packages/sklearn/utils/validation.py:578: DataConversionWarning: A column-vector y was passed when a 1d array was expected. Please change the shape of y to (n_samples, ), for example using ravel().\n",
      "  y = column_or_1d(y, warn=True)\n",
      "/anaconda3/envs/dsi/lib/python3.6/site-packages/sklearn/utils/validation.py:578: DataConversionWarning: A column-vector y was passed when a 1d array was expected. Please change the shape of y to (n_samples, ), for example using ravel().\n",
      "  y = column_or_1d(y, warn=True)\n",
      "[Parallel(n_jobs=1)]: Done  20 out of  20 | elapsed:    2.6s finished\n",
      "/anaconda3/envs/dsi/lib/python3.6/site-packages/sklearn/utils/validation.py:578: DataConversionWarning: A column-vector y was passed when a 1d array was expected. Please change the shape of y to (n_samples, ), for example using ravel().\n",
      "  y = column_or_1d(y, warn=True)\n"
     ]
    },
    {
     "data": {
      "text/plain": [
       "(0.6019095162957575, -0.2550915743418869)"
      ]
     },
     "execution_count": 111,
     "metadata": {},
     "output_type": "execute_result"
    }
   ],
   "source": [
    "ada = AdaBoostRegressor()\n",
    "kfolds = KFold(n_splits=5, shuffle=True)\n",
    "param_grid = {\n",
    "    'n_estimators': [10, 20, 50, 100],\n",
    "}\n",
    "model = GridSearchCV(ada, param_grid, cv=kfolds, verbose=1)\n",
    "model.fit(X_train_scaled, y_train)\n",
    "model.score(X_train_scaled, y_train), model.score(X_validate_scaled, y_validate)"
   ]
  },
  {
   "cell_type": "code",
   "execution_count": 115,
   "metadata": {},
   "outputs": [
    {
     "data": {
      "text/plain": [
       "array([ 0.41135847,  0.1885663 ,  0.20094218, -0.01584757,  0.08753059])"
      ]
     },
     "execution_count": 115,
     "metadata": {},
     "output_type": "execute_result"
    }
   ],
   "source": [
    "model = LinearRegression()\n",
    "cross_val_score(model, X_train[corr_features], y_train, cv=kfolds)"
   ]
  },
  {
   "cell_type": "code",
   "execution_count": 120,
   "metadata": {},
   "outputs": [
    {
     "data": {
      "text/plain": [
       "-0.05302227877936394"
      ]
     },
     "execution_count": 120,
     "metadata": {},
     "output_type": "execute_result"
    }
   ],
   "source": [
    "model.fit(X_train[corr_features], y_train)\n",
    "model.score(X_validate[corr_features], y_validate)"
   ]
  },
  {
   "cell_type": "code",
   "execution_count": 133,
   "metadata": {},
   "outputs": [],
   "source": [
    "coefs = pd.DataFrame(abs(model.coef_[0]), index=corr_features).sort_values(0)"
   ]
  },
  {
   "cell_type": "code",
   "execution_count": 142,
   "metadata": {},
   "outputs": [
    {
     "data": {
      "image/png": "[encoded data removed]",
      "text/plain": [
       "<Figure size 432x288 with 1 Axes>"
      ]
     },
     "metadata": {},
     "output_type": "display_data"
    }
   ],
   "source": [
    "plt.barh(coefs.index, coefs[0])\n",
    "plt.title('Magnitude of Coefficients');"
   ]
  },
  {
   "cell_type": "code",
   "execution_count": null,
   "metadata": {},
   "outputs": [],
   "source": []
  },
  {
   "cell_type": "code",
   "execution_count": null,
   "metadata": {},
   "outputs": [],
   "source": []
  },
  {
   "cell_type": "code",
   "execution_count": null,
   "metadata": {},
   "outputs": [],
   "source": []
  },
  {
   "cell_type": "code",
   "execution_count": null,
   "metadata": {},
   "outputs": [],
   "source": []
  },
  {
   "cell_type": "code",
   "execution_count": null,
   "metadata": {},
   "outputs": [],
   "source": []
  },
  {
   "cell_type": "markdown",
   "metadata": {},
   "source": [
    "There are too many strange data points. My wondering is that this is caused by players who took next to no post-up shots."
   ]
  },
  {
   "cell_type": "code",
   "execution_count": null,
   "metadata": {},
   "outputs": [],
   "source": [
    "# Looking at the number of players whose post-up rate or target post-up rate is less than .02\n",
    "X_post_EV_train[(X_post_EV_train['POST_TOUCH_RATE']<.02)| (y_post_EV_train['TARGET_POST_TOUCH_RATE']<.02)].shape"
   ]
  },
  {
   "cell_type": "code",
   "execution_count": null,
   "metadata": {},
   "outputs": [],
   "source": [
    "# Looking at how dropping those rows affects the distribution\n",
    "drop_index = X_post_EV_train[(X_post_EV_train['POST_TOUCH_RATE']<.025) | \n",
    "                             (y_post_EV_train['TARGET_POST_TOUCH_RATE']<.025)].index\n",
    "plt.scatter(X_post_EV_train.drop(index=drop_index)['POST_TOUCH_EV'],\n",
    "            y_post_EV_train.drop(index=drop_index)['TARGET_POST_TOUCH_EV']);\n",
    "plt.plot(np.linspace(0,2), np.linspace(0,2), color='r')\n",
    "plt.xlabel('Post-Up Rate')\n",
    "plt.ylabel('Next Season Post-Up Rate');"
   ]
  },
  {
   "cell_type": "code",
   "execution_count": null,
   "metadata": {},
   "outputs": [],
   "source": [
    "# Looking for features with the highest correlation with the target\n",
    "corr_finder(X_post_EV_train.drop(index=drop_index),\n",
    "            y_post_EV_train.drop(index=drop_index)[['TARGET_POST_TOUCH_EV']], .3)"
   ]
  },
  {
   "cell_type": "code",
   "execution_count": null,
   "metadata": {},
   "outputs": [],
   "source": [
    "# Dropping those rows\n",
    "X_post_EV_train.drop(index=drop_index, inplace=True)\n",
    "y_post_EV_train.drop(index=drop_index, inplace=True)"
   ]
  },
  {
   "cell_type": "code",
   "execution_count": null,
   "metadata": {},
   "outputs": [],
   "source": [
    "# Saving potential features\n",
    "post_up_features = corr_finder(X_post_EV_train, y_post_EV_train[['TARGET_POST_TOUCH_EV']], .3)['TARGET_POST_TOUCH_EV']"
   ]
  },
  {
   "cell_type": "code",
   "execution_count": null,
   "metadata": {},
   "outputs": [],
   "source": [
    "def corr_plots(X, y, columns, cols=3):\n",
    "\n",
    "    n = len(columns)\n",
    "    rows = (n + cols - 1)//cols\n",
    "    plt.figure(figsize=(5*cols, 5*rows))\n",
    "    plt.subplots_adjust(hspace=.3, wspace=.3)\n",
    "    for i, column in enumerate(columns):\n",
    "        plt.subplot(rows, cols, i+1)\n",
    "        plt.scatter(X[column], y)\n",
    "        plt.xlabel(column)\n",
    "        plt.ylabel(y.name)\n",
    "        \n",
    "def box_plots(X, y, columns, cols=3):\n",
    "    \n",
    "    n = len(columns)\n",
    "    rows = (n + cols - 1)//cols\n",
    "    plt.figure(figsize=(5*cols, 5*rows))\n",
    "    plt.subplots_adjust(hspace=.3, wspace=.3)\n",
    "    for i, column in enumerate(columns):\n",
    "        plt.subplot(rows, cols, i+1)\n",
    "        sns.boxplot(x=column, y=y.name, data=X)\n",
    "        plt.xlabel(column)\n",
    "        plt.ylabel(y.name);"
   ]
  },
  {
   "cell_type": "code",
   "execution_count": null,
   "metadata": {},
   "outputs": [],
   "source": [
    "def feature_selection_corr(X, y, alpha=.4, beta=.7):\n",
    "    \n",
    "    numeric_columns = X.select_dtypes(['float', 'int']).columns\n",
    "    \n",
    "    possible_features = []\n",
    "    for column in numeric_columns:\n",
    "        coef = np.corrcoef(X[column], y)[0,1]\n",
    "        if abs(coef) > alpha:\n",
    "            possible_features.append([column, coef])\n",
    "    \n",
    "    possible_features.sort(key = lambda feature: feature[1], reverse=True)\n",
    "    possible_features= [feature for feature, _ in possible_features]\n",
    "\n",
    "    colinear_features = []\n",
    "    for row, column in combinations(possible_features, 2):\n",
    "        if np.corrcoef(X[row], X[column])[0,1] > beta:\n",
    "            colinear_features.append([[row, np.corrcoef(X[row], y)[0,1]], [column, np.corrcoef(X[column], y)[0,1]]])\n",
    "    \n",
    "    suggested_features = possible_features\n",
    "    for choice in colinear_features:\n",
    "        if (choice[1][0] in suggested_features) and (choice[0][0] in suggested_features):\n",
    "            if choice[0][1] >= choice[1][1]:\n",
    "                suggested_features.remove(choice[1][0])\n",
    "            else:\n",
    "                suggested_features.remove(choice[0][0])\n",
    "    \n",
    "    return suggested_features"
   ]
  },
  {
   "cell_type": "code",
   "execution_count": null,
   "metadata": {},
   "outputs": [],
   "source": [
    "corr_columns = corr_finder(X_post_EV_train, y_post_EV_train['TARGET_POST_TOUCH_EV'], alpha=.25, beta=.5)"
   ]
  },
  {
   "cell_type": "code",
   "execution_count": null,
   "metadata": {},
   "outputs": [],
   "source": [
    "corr_plots(X_post_EV_train, y_post_EV_train['TARGET_POST_TOUCH_EV'], corr_columns)"
   ]
  },
  {
   "cell_type": "code",
   "execution_count": null,
   "metadata": {},
   "outputs": [],
   "source": [
    "numeric_columns = X_post_EV_train.select_dtypes(['float', 'int']).columns"
   ]
  },
  {
   "cell_type": "code",
   "execution_count": null,
   "metadata": {},
   "outputs": [],
   "source": [
    "lr = LinearRegression()\n",
    "rfecv = RFECV(estimator=lr, step=1, cv=5)\n",
    "rfecv.fit(X_post_EV_train[numeric_columns].dropna(axis=1), y_post_EV_train['TARGET_POST_TOUCH_EV'])"
   ]
  },
  {
   "cell_type": "code",
   "execution_count": null,
   "metadata": {},
   "outputs": [],
   "source": [
    "lr = LinearRegression()\n",
    "rfe = RFE(estimator=lr, n_features_to_select=5, step=1)\n",
    "rfe.fit(X_post_EV_train[numeric_columns].dropna(axis=1), y_post_EV_train['TARGET_POST_TOUCH_EV'])"
   ]
  },
  {
   "cell_type": "code",
   "execution_count": null,
   "metadata": {},
   "outputs": [],
   "source": [
    "val_index = X_post_EV_validate[['VERY_OPEN_FG2M', 'VERY_OPEN_FG3M', '2_DRIBBLES_FG3A', '2_DRIBBLES_FG2A', '2_DRIBBLES_FGA']].dropna(axis=0).index"
   ]
  },
  {
   "cell_type": "code",
   "execution_count": null,
   "metadata": {},
   "outputs": [],
   "source": [
    "y_post_EV_validate.shape"
   ]
  },
  {
   "cell_type": "code",
   "execution_count": null,
   "metadata": {},
   "outputs": [],
   "source": [
    "lr.fit(X_post_EV_train[['VERY_OPEN_FG2M', 'VERY_OPEN_FG3M', '2_DRIBBLES_FG3A', '2_DRIBBLES_FG2A', '2_DRIBBLES_FGA']],\n",
    "       y_post_EV_train['TARGET_POST_TOUCH_EV'])\n",
    "lr.score(X_post_EV_validate[['VERY_OPEN_FG2M', 'VERY_OPEN_FG3M', '2_DRIBBLES_FG3A', '2_DRIBBLES_FG2A', '2_DRIBBLES_FGA']].dropna(axis=0),\n",
    "         y_post_EV_validate.loc[val_index, 'TARGET_POST_TOUCH_EV'])\n",
    "lr.score(X_post_EV_train[['VERY_OPEN_FG2M', 'VERY_OPEN_FG3M', '2_DRIBBLES_FG3A', '2_DRIBBLES_FG2A', '2_DRIBBLES_FGA']],\n",
    "       y_post_EV_train['TARGET_POST_TOUCH_EV'])"
   ]
  },
  {
   "cell_type": "code",
   "execution_count": null,
   "metadata": {},
   "outputs": [],
   "source": [
    "lr.fit(X_post_EV_train[corr_columns],\n",
    "       y_post_EV_train['TARGET_POST_TOUCH_EV'])\n",
    "lr.score(X_post_EV_validate[corr_columns],\n",
    "         y_post_EV_validate['TARGET_POST_TOUCH_EV'])\n",
    "lr.score(X_post_EV_train[corr_columns],\n",
    "         y_post_EV_train['TARGET_POST_TOUCH_EV'])"
   ]
  },
  {
   "cell_type": "code",
   "execution_count": null,
   "metadata": {},
   "outputs": [],
   "source": [
    "drop_index = X_post_EV_validate[(X_post_EV_validate['POST_TOUCH_RATE']<.025) | \n",
    "                                (y_post_EV_validate['TARGET_POST_TOUCH_RATE']<.025)].index\n",
    "X_post_EV_validate.drop(drop_index, axis=0, inplace=True)\n",
    "y_post_EV_validate.drop(drop_index, axis=0, inplace=True)"
   ]
  },
  {
   "cell_type": "code",
   "execution_count": null,
   "metadata": {},
   "outputs": [],
   "source": [
    "lr = LinearRegression()\n",
    "lr.fit(X_post_EV_train[corr_columns],\n",
    "       y_post_EV_train['TARGET_POST_TOUCH_EV'])\n",
    "lr.score(X_post_EV_validate[corr_columns],\n",
    "         y_post_EV_validate['TARGET_POST_TOUCH_EV'])"
   ]
  },
  {
   "cell_type": "code",
   "execution_count": null,
   "metadata": {},
   "outputs": [],
   "source": [
    "y_hat = lr.predict(X_post_EV_validate[corr_columns])\n",
    "plt.scatter(y_post_EV_validate['TARGET_POST_TOUCH_EV'], y_hat)\n",
    "plt.plot(np.linspace(0, 2), np.linspace(0, 2), c='r')\n",
    "plt.plot(np.linspace(0, 2), np.linspace(y_post_EV_validate['TARGET_POST_TOUCH_EV'].mean(), y_post_EV_validate['TARGET_POST_TOUCH_EV'].mean()), c='g');"
   ]
  },
  {
   "cell_type": "code",
   "execution_count": null,
   "metadata": {},
   "outputs": [],
   "source": [
    "poly = PolynomialFeatures()\n",
    "poly.fit_transform()"
   ]
  },
  {
   "cell_type": "code",
   "execution_count": null,
   "metadata": {},
   "outputs": [],
   "source": []
  },
  {
   "cell_type": "code",
   "execution_count": null,
   "metadata": {},
   "outputs": [],
   "source": [
    "pd.DataFrame(lr.coef_, index=corr_columns)"
   ]
  },
  {
   "cell_type": "code",
   "execution_count": null,
   "metadata": {},
   "outputs": [],
   "source": [
    "pd.DataFrame(rfe.ranking_, index=X_post_EV_train[numeric_columns].dropna(axis=1).columns).sort_values(0)"
   ]
  },
  {
   "cell_type": "code",
   "execution_count": null,
   "metadata": {},
   "outputs": [],
   "source": [
    "rfecv.n_features_"
   ]
  },
  {
   "cell_type": "markdown",
   "metadata": {},
   "source": [
    "## Determine Optimal Past Year Weights for Selected Features"
   ]
  },
  {
   "cell_type": "code",
   "execution_count": null,
   "metadata": {},
   "outputs": [],
   "source": [
    "train.corr().loc[shift_columns, target_columns]"
   ]
  },
  {
   "cell_type": "markdown",
   "metadata": {},
   "source": [
    "Consider adding a drive_shot_pct, \n",
    "\n",
    "consider using aspects to create the effectiveness to think about which features most predict how effective you are or better yet, look at correlation between the features and the engineered feature and just have that for your final analysis"
   ]
  },
  {
   "cell_type": "code",
   "execution_count": null,
   "metadata": {},
   "outputs": [],
   "source": [
    "np.corrcoef(train['TARGET_POST_TOUCH_EV'], train['TARGET_CATCH_SHOOT_EV'])"
   ]
  },
  {
   "cell_type": "code",
   "execution_count": null,
   "metadata": {},
   "outputs": [],
   "source": [
    "high_corr = 0\n",
    "for column in train.columns:\n",
    "    try:\n",
    "        if np.corrcoef(train['TARGET_POST_TOUCH_EV'], train[column]) > high_corr:\n",
    "            high_corr = np.corrcoef(train['TARGET_POST_TOUCH_EV'], train[column])\n",
    "            best = column\n",
    "    except:\n",
    "        pass\n",
    "\n",
    "best"
   ]
  },
  {
   "cell_type": "markdown",
   "metadata": {},
   "source": [
    "ADD SHOOTING BY DISTANCE TO GET PAINT SHOOTING IN AND OUT OF RESTRICTED AREA\n",
    "ADD SOMEKIND OF PERCENT OF SHOTS THAT ARE 3'S OR PERCENT OF PULL UP SHOTS THAT ARE 3S"
   ]
  }
 ],
 "metadata": {
  "kernelspec": {
   "display_name": "Python [conda env:dsi]",
   "language": "python",
   "name": "conda-env-dsi-py"
  },
  "language_info": {
   "codemirror_mode": {
    "name": "ipython",
    "version": 3
   },
   "file_extension": ".py",
   "mimetype": "text/x-python",
   "name": "python",
   "nbconvert_exporter": "python",
   "pygments_lexer": "ipython3",
   "version": "3.6.5"
  }
 },
 "nbformat": 4,
 "nbformat_minor": 2
}
