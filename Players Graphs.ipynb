{
 "cells": [
  {
   "cell_type": "code",
   "execution_count": 59,
   "metadata": {},
   "outputs": [],
   "source": [
    "from bokeh.plotting import figure\n",
    "from bokeh.io import output_notebook, show\n",
    "from bokeh.models.tools import HoverTool\n",
    "from bokeh.models import ColumnDataSource, Range1d, Div, Label\n",
    "from bokeh.transform import linear_cmap\n",
    "from bokeh.layouts import row, column\n",
    "import pandas as pd\n",
    "import numpy as np\n",
    "from model_prep import shift_data\n",
    "from dictionaries import color_dict, title_dict, skill_max, skill_avg"
   ]
  },
  {
   "cell_type": "code",
   "execution_count": 2,
   "metadata": {},
   "outputs": [],
   "source": [
    "df = pd.read_csv('./data/target_df', index_col=0)"
   ]
  },
  {
   "cell_type": "markdown",
   "metadata": {},
   "source": [
    "#### Preparing the target dataframe"
   ]
  },
  {
   "cell_type": "code",
   "execution_count": 3,
   "metadata": {},
   "outputs": [],
   "source": [
    "# Creating a 2019\n",
    "index_18 = df[df['SEASON']==2018].index\n",
    "temp_df = df.loc[index_18, ['PLAYER_NAME', 'PLAYER_ID', 'TEAM_ABBREVIATION', 'SEASON']]\n",
    "temp_df['SEASON'] = 2019\n",
    "temp_df['TEAM_ABBREVIATION'] = np.nan\n",
    "for col in df.columns:\n",
    "    if col not in temp_df.columns:\n",
    "        temp_df[col] = np.nan\n",
    "df = pd.concat([temp_df, df], axis=0)\n",
    "df.reset_index(drop=True, inplace=True)"
   ]
  },
  {
   "cell_type": "code",
   "execution_count": 4,
   "metadata": {},
   "outputs": [],
   "source": [
    "# Moving the predictions to the following year\n",
    "for player in df['PLAYER_ID'].unique():\n",
    "    df[df['PLAYER_ID'] == player]"
   ]
  },
  {
   "cell_type": "code",
   "execution_count": 6,
   "metadata": {},
   "outputs": [],
   "source": [
    "# Moving the predictions to the following year\n",
    "target_columns = [col for col in df.columns if 'PRED' in col]\n",
    "df = shift_data(df=df, on='PLAYER_ID', columns=target_columns, prefix='', amount=-1)"
   ]
  },
  {
   "cell_type": "markdown",
   "metadata": {},
   "source": [
    "#### Creating the graph"
   ]
  },
  {
   "cell_type": "code",
   "execution_count": 7,
   "metadata": {},
   "outputs": [],
   "source": [
    "#### FIX THE DICTIONARIES, there should be 1 dictionary (or df) that for each category has all the info (title, stats)\n",
    "#### AVG performance should be by year (as should max)"
   ]
  },
  {
   "cell_type": "code",
   "execution_count": 8,
   "metadata": {},
   "outputs": [],
   "source": [
    "def team_colors(df, player, color_dict=color_dict):\n",
    "    \n",
    "    # Finding the most colors for the most recent team of the player\n",
    "    team = df[df['PLAYER_NAME']==player]['TEAM_ABBREVIATION'].iloc[1]\n",
    "    primary = color_dict['primary'][team]\n",
    "    secondary = color_dict['secondary'][team]\n",
    "    \n",
    "    return primary, secondary"
   ]
  },
  {
   "cell_type": "code",
   "execution_count": 204,
   "metadata": {
    "scrolled": false
   },
   "outputs": [],
   "source": [
    "def graph_trends(df, player, skill, color_dict, title_dict, skill_max):\n",
    "    \n",
    "    # Creating the player df\n",
    "    player_index = df[df['PLAYER_NAME']==player].index\n",
    "    player_df = df.loc[player_index]\n",
    "    \n",
    "    # Setting the colors and title\n",
    "    primary, secondary = team_colors(df, player, color_dict)\n",
    "    title = title_dict[skill]\n",
    "\n",
    "    # Creating the plot\n",
    "    p = figure(plot_height=450, plot_width=450, title=title, tools=\"wheel_zoom,reset\")\n",
    "\n",
    "    # Saving the plot settings\n",
    "    if 'RATE' in skill:\n",
    "        p.yaxis.axis_label = 'Rate'\n",
    "    elif 'EV' in skill:\n",
    "        p.yaxis.axis_label = 'Performance'\n",
    "    p.xaxis.axis_label = 'Season'\n",
    "    p.xaxis.axis_label_text_font_style = 'normal'\n",
    "    p.yaxis.axis_label_text_font_style = 'normal'\n",
    "    p.xaxis.ticker = list(player_df['SEASON'].unique())\n",
    "    p.outline_line_width = 5\n",
    "    p.outline_line_alpha = .5\n",
    "    p.axis.minor_tick_in = -3\n",
    "    p.axis.minor_tick_out = 6\n",
    "    p.xaxis.minor_tick_line_color = None\n",
    "    p.y_range = Range1d(0, skill_max[skill])\n",
    "    p.toolbar.autohide = True\n",
    "\n",
    "    # Creating the graphs\n",
    "    l1 = p.line(player_df['SEASON'], player_df[skill], legend='Actual')\n",
    "    c1 = p.circle(player_df['SEASON'], player_df[skill], legend='Actual')\n",
    "    \n",
    "    l2 = p.line(player_df['SEASON'], player_df['PRED_' + skill], legend='Predictions')\n",
    "    c2 = p.circle(player_df['SEASON'], player_df['PRED_' + skill], legend='Predictions')\n",
    "\n",
    "    # Line settings\n",
    "    l1.glyph.line_width=2\n",
    "    l1.glyph.line_color=primary\n",
    "    \n",
    "    l2.glyph.line_width=2\n",
    "    l2.glyph.line_color=secondary\n",
    "    l2.glyph.line_dash=[5,1]\n",
    "    \n",
    "    # Legend settings\n",
    "    if player_df.iloc[1][skill] >= skill_max[skill] - .3:\n",
    "        p.legend.location = 'bottom_right'\n",
    "    \n",
    "    # Circle settings\n",
    "    c1.glyph.fill_color=primary\n",
    "    c1.glyph.line_color=primary\n",
    "    c1.glyph.line_width=2\n",
    "    c1.glyph.fill_alpha=1\n",
    "    c1.glyph.size=10\n",
    "\n",
    "    c2.glyph.fill_color=secondary\n",
    "    c2.glyph.line_color=secondary\n",
    "    c2.glyph.line_width=2\n",
    "    c2.glyph.fill_alpha=1\n",
    "    c2.glyph.size=10\n",
    "\n",
    "    return p"
   ]
  },
  {
   "cell_type": "code",
   "execution_count": 205,
   "metadata": {},
   "outputs": [],
   "source": [
    "def graph_skills(df, player, season, color_dict, title_dict, skill_max, skill_avg):\n",
    "    \n",
    "    # Creating the player df\n",
    "    player_season_index = df[(df['PLAYER_NAME']==player)&(df['SEASON']==season)].index\n",
    "    player_df = df.loc[player_season_index]\n",
    "    player_df.fillna(0, inplace=True)\n",
    "    \n",
    "    # Setting the colors and title\n",
    "    primary, secondary = team_colors(df, player, color_dict)\n",
    "    \n",
    "    # Extracting the data\n",
    "    # In the future, the skill max might need to be rethought\n",
    "    pull_up_rate = max(0, player_df['PULL_UP_RATE'].values[0]/skill_max['PULL_UP_RATE'])\n",
    "    pull_up_ev = max(0, player_df['PULL_UP_EV'].values[0]/skill_max['PULL_UP_EV'])\n",
    "    post_up_rate = max(0, player_df['POST_TOUCH_RATE'].values[0]/skill_max['POST_TOUCH_RATE'])\n",
    "    post_up_ev = max(0, player_df['POST_TOUCH_EV'].values[0]/skill_max['POST_TOUCH_EV'])\n",
    "    drive_rate = max(0, player_df['DRIVE_RATE'].values[0]/skill_max['DRIVE_RATE'])\n",
    "    drive_ev = max(0, player_df['DRIVE_EV'].values[0]/skill_max['DRIVE_EV'])\n",
    "    catch_shoot_rate = max(0, player_df['CATCH_SHOOT_RATE'].values[0]/skill_max['CATCH_SHOOT_RATE'])\n",
    "    catch_shoot_ev = max(0, player_df['CATCH_SHOOT_EV'].values[0]/skill_max['CATCH_SHOOT_EV'])\n",
    "    pull_up_avg = skill_avg['PULL_UP_EV']/skill_max['PULL_UP_EV']\n",
    "    post_up_avg = skill_avg['POST_TOUCH_EV']/skill_max['POST_TOUCH_EV']\n",
    "    drive_avg = skill_avg['DRIVE_EV']/skill_max['DRIVE_EV']\n",
    "    catch_shoot_avg = skill_avg['CATCH_SHOOT_EV']/skill_max['CATCH_SHOOT_EV']\n",
    "    \n",
    "    \n",
    "    # Arranging the data\n",
    "    rates = ColumnDataSource({'x': [0, pull_up_rate, 0, -post_up_rate],\n",
    "                            'y': [drive_rate, 0, -catch_shoot_rate, 0]})\n",
    "    EV = ColumnDataSource({'x': [0, pull_up_ev, 0, -post_up_ev],\n",
    "                           'y': [drive_ev, 0, -catch_shoot_ev, 0]})\n",
    "    avg_EV = ColumnDataSource({'x': [0, pull_up_avg, 0, -post_up_avg, 0],\n",
    "                               'y': [drive_avg, 0, -catch_shoot_avg, 0, drive_avg]})\n",
    "    \n",
    "    # Creating the plot\n",
    "    p = figure(plot_height=450, plot_width=450, title=str(season)+' Skills and Tendencies', tools=\"wheel_zoom,reset\")\n",
    "\n",
    "    # Plot settings\n",
    "    p.outline_line_width = 5\n",
    "    p.outline_line_alpha = .5\n",
    "    p.xaxis.fixed_location = 0\n",
    "    p.yaxis.fixed_location = 0\n",
    "    p.xgrid.grid_line_color = None\n",
    "    p.ygrid.grid_line_color = None\n",
    "    p.axis.major_tick_line_color = None\n",
    "    p.axis.minor_tick_line_color = None\n",
    "    p.axis.ticker = []\n",
    "    p.axis.bounds = (-1, 1)\n",
    "    p.y_range = Range1d(-1.2, 1.2)\n",
    "    p.x_range = Range1d(-1.4, 1.4)\n",
    "    p.toolbar.autohide = True\n",
    "    \n",
    "    # Creating the plot labels\n",
    "    p.add_layout(Label(x=0, y=1, text='Drive', render_mode='canvas',\n",
    "                       text_align='center', text_baseline='bottom', text_font_size='10pt'))\n",
    "    p.add_layout(Label(x=1.05, y=0, text='Pull-Up', render_mode='canvas',\n",
    "                       text_align='left', text_baseline='middle', text_font_size='10pt'))\n",
    "    p.add_layout(Label(x=0, y=-1, text='Catch-and-Shoot', render_mode='canvas',\n",
    "                       text_align='center', text_baseline='top', text_font_size='10pt'))\n",
    "    p.add_layout(Label(x=-1.05, y=0, text='Post-Up', render_mode='canvas',\n",
    "                       text_align='right', text_baseline='middle', text_font_size='10pt'))\n",
    "    \n",
    "    # Creating the graphs\n",
    "    p2 = p.patch('x', 'y', source=rates, legend='Rate')\n",
    "    p1 = p.patch('x', 'y', source=EV, legend='Performance')\n",
    "    l = p.line('x', 'y', source=avg_EV, legend='Avg Performance')\n",
    "    \n",
    "    # Creating the \"spider web\" grid lines\n",
    "    p.line([-.5, 0, .5, 0, -.5], [0, .5, 0, -.5, 0], line_alpha=.4, line_color='gray', line_width=.5)\n",
    "    p.line([-.25, 0, .25, 0, -.25], [0, .25, 0, -.25, 0], line_alpha=.4, line_color='gray', line_width=.5)\n",
    "    p.line([-.75, 0, .75, 0, -.75], [0, .75, 0, -.75, 0], line_alpha=.4, line_color='gray', line_width=.5)\n",
    "    p.line([-1, 0, 1, 0, -1], [0, 1, 0, -1, 0], line_alpha=.4, line_color='gray', line_width=.5)\n",
    "    \n",
    "    # Patch settings\n",
    "    p1.glyph.fill_color=primary\n",
    "    p1.glyph.fill_alpha=.5\n",
    "    p1.glyph.line_width=2 \n",
    "    p1.glyph.line_color=primary\n",
    "\n",
    "    p2.glyph.fill_color=secondary\n",
    "    p2.glyph.fill_alpha=.5\n",
    "    p2.glyph.line_width=2 \n",
    "    p2.glyph.line_color=secondary\n",
    "    \n",
    "    # Legend settings\n",
    "    p.legend.label_text_font_size = '8pt'\n",
    "    \n",
    "    # Line settings\n",
    "    l.glyph.line_alpha=.8\n",
    "    l.glyph.line_color='black'\n",
    "    l.glyph.line_width=1\n",
    "    l.glyph.line_dash=[5,1]\n",
    "\n",
    "    return p"
   ]
  },
  {
   "cell_type": "code",
   "execution_count": 206,
   "metadata": {},
   "outputs": [],
   "source": [
    "def double_plot(df, player, season, skill, color_dict, title_dict, skill_max, skill_avg):\n",
    "    \n",
    "    # Creating both plots side by side\n",
    "    p1 = graph_skills(df, player, season, color_dict, title_dict, skill_max, skill_avg)\n",
    "    p2 = graph_trends(df, player, skill, color_dict, title_dict, skill_max)\n",
    "    title = Div(text='<h2>'+player+'</h2>')\n",
    "    plot = column(title, row(p1, p2))\n",
    "    \n",
    "    return plot"
   ]
  },
  {
   "cell_type": "code",
   "execution_count": 208,
   "metadata": {
    "scrolled": false
   },
   "outputs": [
    {
     "data": {
      "text/html": [
       "\n",
       "\n",
       "\n",
       "\n",
       "\n",
       "\n",
       "  <div class=\"bk-root\" id=\"43c05391-0e04-4957-aca9-2e9ebdbfab2b\"></div>\n"
      ]
     },
     "metadata": {},
     "output_type": "display_data"
    },
    {
     "data": {
      "application/javascript": [
       "(function(root) {\n",
       "  function embed_document(root) {\n",
       "    \n",
       "  var docs_json = {\"fb921a36-0266-4d82-b466-817a634ff018\":{\"roots\":{\"references\":[{\"attributes\":{\"children\":[{\"id\":\"74512\",\"type\":\"WidgetBox\"},{\"id\":\"74511\",\"type\":\"Row\"}]},\"id\":\"74513\",\"type\":\"Column\"},{\"attributes\":{\"children\":[{\"id\":\"74339\",\"subtype\":\"Figure\",\"type\":\"Plot\"},{\"id\":\"74430\",\"subtype\":\"Figure\",\"type\":\"Plot\"}]},\"id\":\"74511\",\"type\":\"Row\"},{\"attributes\":{\"data_source\":{\"id\":\"74336\",\"type\":\"ColumnDataSource\"},\"glyph\":{\"id\":\"74386\",\"type\":\"Patch\"},\"hover_glyph\":null,\"muted_glyph\":null,\"nonselection_glyph\":{\"id\":\"74387\",\"type\":\"Patch\"},\"selection_glyph\":null,\"view\":{\"id\":\"74389\",\"type\":\"CDSView\"}},\"id\":\"74388\",\"type\":\"GlyphRenderer\"},{\"attributes\":{\"dimension\":1,\"plot\":{\"id\":\"74430\",\"subtype\":\"Figure\",\"type\":\"Plot\"},\"ticker\":{\"id\":\"74446\",\"type\":\"BasicTicker\"}},\"id\":\"74449\",\"type\":\"Grid\"},{\"attributes\":{\"callback\":null,\"end\":1.308},\"id\":\"74457\",\"type\":\"Range1d\"},{\"attributes\":{\"source\":{\"id\":\"74336\",\"type\":\"ColumnDataSource\"}},\"id\":\"74389\",\"type\":\"CDSView\"},{\"attributes\":{\"active_drag\":\"auto\",\"active_inspect\":\"auto\",\"active_multi\":null,\"active_scroll\":\"auto\",\"active_tap\":\"auto\",\"autohide\":true,\"tools\":[{\"id\":\"74450\",\"type\":\"WheelZoomTool\"},{\"id\":\"74451\",\"type\":\"ResetTool\"}]},\"id\":\"74452\",\"type\":\"Toolbar\"},{\"attributes\":{\"children\":[{\"id\":\"74510\",\"type\":\"Div\"}]},\"id\":\"74512\",\"type\":\"WidgetBox\"},{\"attributes\":{},\"id\":\"74450\",\"type\":\"WheelZoomTool\"},{\"attributes\":{},\"id\":\"74394\",\"type\":\"Selection\"},{\"attributes\":{},\"id\":\"74451\",\"type\":\"ResetTool\"},{\"attributes\":{\"label\":{\"value\":\"Performance\"},\"renderers\":[{\"id\":\"74388\",\"type\":\"GlyphRenderer\"}]},\"id\":\"74395\",\"type\":\"LegendItem\"},{\"attributes\":{},\"id\":\"76253\",\"type\":\"UnionRenderers\"},{\"attributes\":{},\"id\":\"76254\",\"type\":\"Selection\"},{\"attributes\":{},\"id\":\"74406\",\"type\":\"UnionRenderers\"},{\"attributes\":{\"ticks\":[2019,2018,2017,2016,2015,2014]},\"id\":\"74455\",\"type\":\"FixedTicker\"},{\"attributes\":{},\"id\":\"76255\",\"type\":\"UnionRenderers\"},{\"attributes\":{},\"id\":\"74407\",\"type\":\"Selection\"},{\"attributes\":{\"line_color\":\"rgb(0, 107, 182)\",\"line_width\":2,\"x\":{\"field\":\"x\"},\"y\":{\"field\":\"y\"}},\"id\":\"74460\",\"type\":\"Line\"},{\"attributes\":{},\"id\":\"76256\",\"type\":\"Selection\"},{\"attributes\":{\"label\":{\"value\":\"Avg Performance\"},\"renderers\":[{\"id\":\"74399\",\"type\":\"GlyphRenderer\"}]},\"id\":\"74408\",\"type\":\"LegendItem\"},{\"attributes\":{\"line_alpha\":0.1,\"line_color\":\"#1f77b4\",\"x\":{\"field\":\"x\"},\"y\":{\"field\":\"y\"}},\"id\":\"74461\",\"type\":\"Line\"},{\"attributes\":{},\"id\":\"76257\",\"type\":\"UnionRenderers\"},{\"attributes\":{\"callback\":null,\"data\":{\"x\":[-0.5,0,0.5,0,-0.5],\"y\":[0,0.5,0,-0.5,0]},\"selected\":{\"id\":\"76256\",\"type\":\"Selection\"},\"selection_policy\":{\"id\":\"76255\",\"type\":\"UnionRenderers\"}},\"id\":\"74409\",\"type\":\"ColumnDataSource\"},{\"attributes\":{\"data_source\":{\"id\":\"74459\",\"type\":\"ColumnDataSource\"},\"glyph\":{\"id\":\"74460\",\"type\":\"Line\"},\"hover_glyph\":null,\"muted_glyph\":null,\"nonselection_glyph\":{\"id\":\"74461\",\"type\":\"Line\"},\"selection_glyph\":null,\"view\":{\"id\":\"74463\",\"type\":\"CDSView\"}},\"id\":\"74462\",\"type\":\"GlyphRenderer\"},{\"attributes\":{},\"id\":\"76258\",\"type\":\"Selection\"},{\"attributes\":{\"line_alpha\":0.4,\"line_color\":\"gray\",\"line_width\":0.5,\"x\":{\"field\":\"x\"},\"y\":{\"field\":\"y\"}},\"id\":\"74410\",\"type\":\"Line\"},{\"attributes\":{\"source\":{\"id\":\"74459\",\"type\":\"ColumnDataSource\"}},\"id\":\"74463\",\"type\":\"CDSView\"},{\"attributes\":{},\"id\":\"76259\",\"type\":\"UnionRenderers\"},{\"attributes\":{\"line_alpha\":0.1,\"line_color\":\"#1f77b4\",\"line_width\":0.5,\"x\":{\"field\":\"x\"},\"y\":{\"field\":\"y\"}},\"id\":\"74411\",\"type\":\"Line\"},{\"attributes\":{},\"id\":\"74465\",\"type\":\"BasicTickFormatter\"},{\"attributes\":{},\"id\":\"76260\",\"type\":\"Selection\"},{\"attributes\":{\"data_source\":{\"id\":\"74409\",\"type\":\"ColumnDataSource\"},\"glyph\":{\"id\":\"74410\",\"type\":\"Line\"},\"hover_glyph\":null,\"muted_glyph\":null,\"nonselection_glyph\":{\"id\":\"74411\",\"type\":\"Line\"},\"selection_glyph\":null,\"view\":{\"id\":\"74413\",\"type\":\"CDSView\"}},\"id\":\"74412\",\"type\":\"GlyphRenderer\"},{\"attributes\":{},\"id\":\"74467\",\"type\":\"BasicTickFormatter\"},{\"attributes\":{},\"id\":\"76261\",\"type\":\"UnionRenderers\"},{\"attributes\":{\"source\":{\"id\":\"74409\",\"type\":\"ColumnDataSource\"}},\"id\":\"74413\",\"type\":\"CDSView\"},{\"attributes\":{\"items\":[{\"id\":\"74469\",\"type\":\"LegendItem\"},{\"id\":\"74494\",\"type\":\"LegendItem\"}],\"plot\":{\"id\":\"74430\",\"subtype\":\"Figure\",\"type\":\"Plot\"}},\"id\":\"74468\",\"type\":\"Legend\"},{\"attributes\":{},\"id\":\"76262\",\"type\":\"Selection\"},{\"attributes\":{\"callback\":null,\"data\":{\"x\":[-0.25,0,0.25,0,-0.25],\"y\":[0,0.25,0,-0.25,0]},\"selected\":{\"id\":\"76258\",\"type\":\"Selection\"},\"selection_policy\":{\"id\":\"76257\",\"type\":\"UnionRenderers\"}},\"id\":\"74414\",\"type\":\"ColumnDataSource\"},{\"attributes\":{},\"id\":\"76269\",\"type\":\"UnionRenderers\"},{\"attributes\":{\"line_alpha\":0.4,\"line_color\":\"gray\",\"line_width\":0.5,\"x\":{\"field\":\"x\"},\"y\":{\"field\":\"y\"}},\"id\":\"74415\",\"type\":\"Line\"},{\"attributes\":{\"label\":{\"value\":\"Actual\"},\"renderers\":[{\"id\":\"74462\",\"type\":\"GlyphRenderer\"},{\"id\":\"74473\",\"type\":\"GlyphRenderer\"}]},\"id\":\"74469\",\"type\":\"LegendItem\"},{\"attributes\":{\"callback\":null,\"data\":{\"x\":[2019,2018,2017,2016,2015,2014],\"y\":{\"__ndarray__\":\"AAAAAAAA+H8K16NwPQrvP83MzMzMzOw/eekmMQis8D9qvHSTGATyP1TjpZvEIPA/\",\"dtype\":\"float64\",\"shape\":[6]}},\"selected\":{\"id\":\"74493\",\"type\":\"Selection\"},\"selection_policy\":{\"id\":\"74492\",\"type\":\"UnionRenderers\"}},\"id\":\"74470\",\"type\":\"ColumnDataSource\"},{\"attributes\":{},\"id\":\"76270\",\"type\":\"Selection\"},{\"attributes\":{\"line_alpha\":0.1,\"line_color\":\"#1f77b4\",\"line_width\":0.5,\"x\":{\"field\":\"x\"},\"y\":{\"field\":\"y\"}},\"id\":\"74416\",\"type\":\"Line\"},{\"attributes\":{\"fill_color\":{\"value\":\"rgb(0, 107, 182)\"},\"line_color\":{\"value\":\"rgb(0, 107, 182)\"},\"line_width\":{\"value\":2},\"size\":{\"units\":\"screen\",\"value\":10},\"x\":{\"field\":\"x\"},\"y\":{\"field\":\"y\"}},\"id\":\"74471\",\"type\":\"Circle\"},{\"attributes\":{\"data_source\":{\"id\":\"74414\",\"type\":\"ColumnDataSource\"},\"glyph\":{\"id\":\"74415\",\"type\":\"Line\"},\"hover_glyph\":null,\"muted_glyph\":null,\"nonselection_glyph\":{\"id\":\"74416\",\"type\":\"Line\"},\"selection_glyph\":null,\"view\":{\"id\":\"74418\",\"type\":\"CDSView\"}},\"id\":\"74417\",\"type\":\"GlyphRenderer\"},{\"attributes\":{\"fill_alpha\":{\"value\":0.1},\"fill_color\":{\"value\":\"#1f77b4\"},\"line_alpha\":{\"value\":0.1},\"line_color\":{\"value\":\"#1f77b4\"},\"x\":{\"field\":\"x\"},\"y\":{\"field\":\"y\"}},\"id\":\"74472\",\"type\":\"Circle\"},{\"attributes\":{\"source\":{\"id\":\"74414\",\"type\":\"ColumnDataSource\"}},\"id\":\"74418\",\"type\":\"CDSView\"},{\"attributes\":{\"data_source\":{\"id\":\"74470\",\"type\":\"ColumnDataSource\"},\"glyph\":{\"id\":\"74471\",\"type\":\"Circle\"},\"hover_glyph\":null,\"muted_glyph\":null,\"nonselection_glyph\":{\"id\":\"74472\",\"type\":\"Circle\"},\"selection_glyph\":null,\"view\":{\"id\":\"74474\",\"type\":\"CDSView\"}},\"id\":\"74473\",\"type\":\"GlyphRenderer\"},{\"attributes\":{\"callback\":null,\"data\":{\"x\":[-0.75,0,0.75,0,-0.75],\"y\":[0,0.75,0,-0.75,0]},\"selected\":{\"id\":\"76260\",\"type\":\"Selection\"},\"selection_policy\":{\"id\":\"76259\",\"type\":\"UnionRenderers\"}},\"id\":\"74419\",\"type\":\"ColumnDataSource\"},{\"attributes\":{\"source\":{\"id\":\"74470\",\"type\":\"ColumnDataSource\"}},\"id\":\"74474\",\"type\":\"CDSView\"},{\"attributes\":{\"line_alpha\":0.4,\"line_color\":\"gray\",\"line_width\":0.5,\"x\":{\"field\":\"x\"},\"y\":{\"field\":\"y\"}},\"id\":\"74420\",\"type\":\"Line\"},{\"attributes\":{},\"id\":\"74479\",\"type\":\"UnionRenderers\"},{\"attributes\":{\"line_alpha\":0.1,\"line_color\":\"#1f77b4\",\"line_width\":0.5,\"x\":{\"field\":\"x\"},\"y\":{\"field\":\"y\"}},\"id\":\"74421\",\"type\":\"Line\"},{\"attributes\":{},\"id\":\"74480\",\"type\":\"Selection\"},{\"attributes\":{\"data_source\":{\"id\":\"74419\",\"type\":\"ColumnDataSource\"},\"glyph\":{\"id\":\"74420\",\"type\":\"Line\"},\"hover_glyph\":null,\"muted_glyph\":null,\"nonselection_glyph\":{\"id\":\"74421\",\"type\":\"Line\"},\"selection_glyph\":null,\"view\":{\"id\":\"74423\",\"type\":\"CDSView\"}},\"id\":\"74422\",\"type\":\"GlyphRenderer\"},{\"attributes\":{\"callback\":null},\"id\":\"74432\",\"type\":\"DataRange1d\"},{\"attributes\":{\"source\":{\"id\":\"74419\",\"type\":\"ColumnDataSource\"}},\"id\":\"74423\",\"type\":\"CDSView\"},{\"attributes\":{\"callback\":null,\"data\":{\"x\":[2019,2018,2017,2016,2015,2014],\"y\":{\"__ndarray__\":\"M7aDjRse7T84ozGzztzsPz7+ALOm+O0/kmEq/aqp7D+kOZJgd4vsPwAAAAAAAPh/\",\"dtype\":\"float64\",\"shape\":[6]}},\"selected\":{\"id\":\"74509\",\"type\":\"Selection\"},\"selection_policy\":{\"id\":\"74508\",\"type\":\"UnionRenderers\"}},\"id\":\"74481\",\"type\":\"ColumnDataSource\"},{\"attributes\":{\"callback\":null,\"data\":{\"x\":[-1,0,1,0,-1],\"y\":[0,1,0,-1,0]},\"selected\":{\"id\":\"76262\",\"type\":\"Selection\"},\"selection_policy\":{\"id\":\"76261\",\"type\":\"UnionRenderers\"}},\"id\":\"74424\",\"type\":\"ColumnDataSource\"},{\"attributes\":{\"line_color\":\"rgb(253, 185, 39)\",\"line_dash\":[5,1],\"line_width\":2,\"x\":{\"field\":\"x\"},\"y\":{\"field\":\"y\"}},\"id\":\"74482\",\"type\":\"Line\"},{\"attributes\":{\"line_alpha\":0.4,\"line_color\":\"gray\",\"line_width\":0.5,\"x\":{\"field\":\"x\"},\"y\":{\"field\":\"y\"}},\"id\":\"74425\",\"type\":\"Line\"},{\"attributes\":{\"line_alpha\":0.1,\"line_color\":\"#1f77b4\",\"x\":{\"field\":\"x\"},\"y\":{\"field\":\"y\"}},\"id\":\"74483\",\"type\":\"Line\"},{\"attributes\":{\"data_source\":{\"id\":\"74481\",\"type\":\"ColumnDataSource\"},\"glyph\":{\"id\":\"74482\",\"type\":\"Line\"},\"hover_glyph\":null,\"muted_glyph\":null,\"nonselection_glyph\":{\"id\":\"74483\",\"type\":\"Line\"},\"selection_glyph\":null,\"view\":{\"id\":\"74485\",\"type\":\"CDSView\"}},\"id\":\"74484\",\"type\":\"GlyphRenderer\"},{\"attributes\":{\"line_alpha\":0.1,\"line_color\":\"#1f77b4\",\"line_width\":0.5,\"x\":{\"field\":\"x\"},\"y\":{\"field\":\"y\"}},\"id\":\"74426\",\"type\":\"Line\"},{\"attributes\":{\"data_source\":{\"id\":\"74424\",\"type\":\"ColumnDataSource\"},\"glyph\":{\"id\":\"74425\",\"type\":\"Line\"},\"hover_glyph\":null,\"muted_glyph\":null,\"nonselection_glyph\":{\"id\":\"74426\",\"type\":\"Line\"},\"selection_glyph\":null,\"view\":{\"id\":\"74428\",\"type\":\"CDSView\"}},\"id\":\"74427\",\"type\":\"GlyphRenderer\"},{\"attributes\":{},\"id\":\"74493\",\"type\":\"Selection\"},{\"attributes\":{\"source\":{\"id\":\"74424\",\"type\":\"ColumnDataSource\"}},\"id\":\"74428\",\"type\":\"CDSView\"},{\"attributes\":{\"label\":{\"value\":\"Predictions\"},\"renderers\":[{\"id\":\"74484\",\"type\":\"GlyphRenderer\"},{\"id\":\"74498\",\"type\":\"GlyphRenderer\"}]},\"id\":\"74494\",\"type\":\"LegendItem\"},{\"attributes\":{\"callback\":null,\"data\":{\"x\":[2019,2018,2017,2016,2015,2014],\"y\":{\"__ndarray__\":\"AAAAAAAA+H8K16NwPQrvP83MzMzMzOw/eekmMQis8D9qvHSTGATyP1TjpZvEIPA/\",\"dtype\":\"float64\",\"shape\":[6]}},\"selected\":{\"id\":\"74480\",\"type\":\"Selection\"},\"selection_policy\":{\"id\":\"74479\",\"type\":\"UnionRenderers\"}},\"id\":\"74459\",\"type\":\"ColumnDataSource\"},{\"attributes\":{\"callback\":null,\"data\":{\"x\":[2019,2018,2017,2016,2015,2014],\"y\":{\"__ndarray__\":\"M7aDjRse7T84ozGzztzsPz7+ALOm+O0/kmEq/aqp7D+kOZJgd4vsPwAAAAAAAPh/\",\"dtype\":\"float64\",\"shape\":[6]}},\"selected\":{\"id\":\"76270\",\"type\":\"Selection\"},\"selection_policy\":{\"id\":\"76269\",\"type\":\"UnionRenderers\"}},\"id\":\"74495\",\"type\":\"ColumnDataSource\"},{\"attributes\":{},\"id\":\"74436\",\"type\":\"LinearScale\"},{\"attributes\":{\"fill_color\":{\"value\":\"rgb(253, 185, 39)\"},\"line_color\":{\"value\":\"rgb(253, 185, 39)\"},\"line_width\":{\"value\":2},\"size\":{\"units\":\"screen\",\"value\":10},\"x\":{\"field\":\"x\"},\"y\":{\"field\":\"y\"}},\"id\":\"74496\",\"type\":\"Circle\"},{\"attributes\":{},\"id\":\"74438\",\"type\":\"LinearScale\"},{\"attributes\":{\"fill_alpha\":{\"value\":0.1},\"fill_color\":{\"value\":\"#1f77b4\"},\"line_alpha\":{\"value\":0.1},\"line_color\":{\"value\":\"#1f77b4\"},\"x\":{\"field\":\"x\"},\"y\":{\"field\":\"y\"}},\"id\":\"74497\",\"type\":\"Circle\"},{\"attributes\":{\"axis_label\":\"Season\",\"axis_label_text_font_style\":\"normal\",\"formatter\":{\"id\":\"74465\",\"type\":\"BasicTickFormatter\"},\"minor_tick_in\":-3,\"minor_tick_line_color\":{\"value\":null},\"minor_tick_out\":6,\"plot\":{\"id\":\"74430\",\"subtype\":\"Figure\",\"type\":\"Plot\"},\"ticker\":{\"id\":\"74455\",\"type\":\"FixedTicker\"}},\"id\":\"74440\",\"type\":\"LinearAxis\"},{\"attributes\":{\"data_source\":{\"id\":\"74495\",\"type\":\"ColumnDataSource\"},\"glyph\":{\"id\":\"74496\",\"type\":\"Circle\"},\"hover_glyph\":null,\"muted_glyph\":null,\"nonselection_glyph\":{\"id\":\"74497\",\"type\":\"Circle\"},\"selection_glyph\":null,\"view\":{\"id\":\"74499\",\"type\":\"CDSView\"}},\"id\":\"74498\",\"type\":\"GlyphRenderer\"},{\"attributes\":{},\"id\":\"74441\",\"type\":\"BasicTicker\"},{\"attributes\":{\"source\":{\"id\":\"74495\",\"type\":\"ColumnDataSource\"}},\"id\":\"74499\",\"type\":\"CDSView\"},{\"attributes\":{\"plot\":{\"id\":\"74430\",\"subtype\":\"Figure\",\"type\":\"Plot\"},\"ticker\":{\"id\":\"74441\",\"type\":\"BasicTicker\"}},\"id\":\"74444\",\"type\":\"Grid\"},{\"attributes\":{},\"id\":\"74508\",\"type\":\"UnionRenderers\"},{\"attributes\":{\"axis_label\":\"Performance\",\"axis_label_text_font_style\":\"normal\",\"formatter\":{\"id\":\"74467\",\"type\":\"BasicTickFormatter\"},\"minor_tick_in\":-3,\"minor_tick_out\":6,\"plot\":{\"id\":\"74430\",\"subtype\":\"Figure\",\"type\":\"Plot\"},\"ticker\":{\"id\":\"74446\",\"type\":\"BasicTicker\"}},\"id\":\"74445\",\"type\":\"LinearAxis\"},{\"attributes\":{},\"id\":\"74509\",\"type\":\"Selection\"},{\"attributes\":{},\"id\":\"74446\",\"type\":\"BasicTicker\"},{\"attributes\":{\"callback\":null,\"data\":{\"x\":[0,0.6717660818713449,0,-0.2194222681580614],\"y\":[0.2792816017874022,0,-0.3801169590643275,0]},\"selected\":{\"id\":\"74394\",\"type\":\"Selection\"},\"selection_policy\":{\"id\":\"74393\",\"type\":\"UnionRenderers\"}},\"id\":\"74335\",\"type\":\"ColumnDataSource\"},{\"attributes\":{\"callback\":null,\"data\":{\"x\":[0,0.7415902140672782,0,-0.7463747957048081],\"y\":[0.7876092303864864,0,-0.8515228426395939,0]},\"selected\":{\"id\":\"74407\",\"type\":\"Selection\"},\"selection_policy\":{\"id\":\"74406\",\"type\":\"UnionRenderers\"}},\"id\":\"74336\",\"type\":\"ColumnDataSource\"},{\"attributes\":{},\"id\":\"74393\",\"type\":\"UnionRenderers\"},{\"attributes\":{\"callback\":null,\"data\":{\"x\":[0,0.5795936134528753,0,-0.40036313840680904,0],\"y\":[0.5422917457462576,0,-0.6153705159498076,0,0.5422917457462576]},\"selected\":{\"id\":\"76254\",\"type\":\"Selection\"},\"selection_policy\":{\"id\":\"76253\",\"type\":\"UnionRenderers\"}},\"id\":\"74337\",\"type\":\"ColumnDataSource\"},{\"attributes\":{\"below\":[{\"id\":\"74349\",\"type\":\"LinearAxis\"}],\"left\":[{\"id\":\"74354\",\"type\":\"LinearAxis\"}],\"outline_line_alpha\":{\"value\":0.5},\"outline_line_width\":{\"value\":5},\"plot_height\":450,\"plot_width\":450,\"renderers\":[{\"id\":\"74349\",\"type\":\"LinearAxis\"},{\"id\":\"74353\",\"type\":\"Grid\"},{\"id\":\"74354\",\"type\":\"LinearAxis\"},{\"id\":\"74358\",\"type\":\"Grid\"},{\"id\":\"74371\",\"type\":\"Label\"},{\"id\":\"74372\",\"type\":\"Label\"},{\"id\":\"74373\",\"type\":\"Label\"},{\"id\":\"74374\",\"type\":\"Label\"},{\"id\":\"74383\",\"type\":\"Legend\"},{\"id\":\"74378\",\"type\":\"GlyphRenderer\"},{\"id\":\"74388\",\"type\":\"GlyphRenderer\"},{\"id\":\"74399\",\"type\":\"GlyphRenderer\"},{\"id\":\"74412\",\"type\":\"GlyphRenderer\"},{\"id\":\"74417\",\"type\":\"GlyphRenderer\"},{\"id\":\"74422\",\"type\":\"GlyphRenderer\"},{\"id\":\"74427\",\"type\":\"GlyphRenderer\"}],\"title\":{\"id\":\"74338\",\"type\":\"Title\"},\"toolbar\":{\"id\":\"74361\",\"type\":\"Toolbar\"},\"x_range\":{\"id\":\"74369\",\"type\":\"Range1d\"},\"x_scale\":{\"id\":\"74345\",\"type\":\"LinearScale\"},\"y_range\":{\"id\":\"74368\",\"type\":\"Range1d\"},\"y_scale\":{\"id\":\"74347\",\"type\":\"LinearScale\"}},\"id\":\"74339\",\"subtype\":\"Figure\",\"type\":\"Plot\"},{\"attributes\":{\"plot\":null,\"text\":\"2018 Skills and Tendencies\"},\"id\":\"74338\",\"type\":\"Title\"},{\"attributes\":{\"plot\":{\"id\":\"74339\",\"subtype\":\"Figure\",\"type\":\"Plot\"},\"text\":\"Drive\",\"text_align\":\"center\",\"text_font_size\":{\"value\":\"10pt\"},\"x\":0,\"y\":1},\"id\":\"74371\",\"type\":\"Label\"},{\"attributes\":{},\"id\":\"74345\",\"type\":\"LinearScale\"},{\"attributes\":{},\"id\":\"74347\",\"type\":\"LinearScale\"},{\"attributes\":{\"bounds\":[-1,1],\"fixed_location\":0,\"formatter\":{\"id\":\"74381\",\"type\":\"BasicTickFormatter\"},\"major_tick_line_color\":{\"value\":null},\"minor_tick_line_color\":{\"value\":null},\"plot\":{\"id\":\"74339\",\"subtype\":\"Figure\",\"type\":\"Plot\"},\"ticker\":{\"id\":\"74364\",\"type\":\"FixedTicker\"}},\"id\":\"74349\",\"type\":\"LinearAxis\"},{\"attributes\":{},\"id\":\"74350\",\"type\":\"BasicTicker\"},{\"attributes\":{\"grid_line_color\":{\"value\":null},\"plot\":{\"id\":\"74339\",\"subtype\":\"Figure\",\"type\":\"Plot\"},\"ticker\":{\"id\":\"74350\",\"type\":\"BasicTicker\"}},\"id\":\"74353\",\"type\":\"Grid\"},{\"attributes\":{\"bounds\":[-1,1],\"fixed_location\":0,\"formatter\":{\"id\":\"74382\",\"type\":\"BasicTickFormatter\"},\"major_tick_line_color\":{\"value\":null},\"minor_tick_line_color\":{\"value\":null},\"plot\":{\"id\":\"74339\",\"subtype\":\"Figure\",\"type\":\"Plot\"},\"ticker\":{\"id\":\"74366\",\"type\":\"FixedTicker\"}},\"id\":\"74354\",\"type\":\"LinearAxis\"},{\"attributes\":{},\"id\":\"74355\",\"type\":\"BasicTicker\"},{\"attributes\":{\"dimension\":1,\"grid_line_color\":{\"value\":null},\"plot\":{\"id\":\"74339\",\"subtype\":\"Figure\",\"type\":\"Plot\"},\"ticker\":{\"id\":\"74355\",\"type\":\"BasicTicker\"}},\"id\":\"74358\",\"type\":\"Grid\"},{\"attributes\":{\"plot\":null,\"text\":\"Pull-Up Performance\"},\"id\":\"74429\",\"type\":\"Title\"},{\"attributes\":{\"callback\":null,\"end\":1.2,\"start\":-1.2},\"id\":\"74368\",\"type\":\"Range1d\"},{\"attributes\":{\"source\":{\"id\":\"74337\",\"type\":\"ColumnDataSource\"}},\"id\":\"74400\",\"type\":\"CDSView\"},{\"attributes\":{\"active_drag\":\"auto\",\"active_inspect\":\"auto\",\"active_multi\":null,\"active_scroll\":\"auto\",\"active_tap\":\"auto\",\"autohide\":true,\"tools\":[{\"id\":\"74359\",\"type\":\"WheelZoomTool\"},{\"id\":\"74360\",\"type\":\"ResetTool\"}]},\"id\":\"74361\",\"type\":\"Toolbar\"},{\"attributes\":{},\"id\":\"74359\",\"type\":\"WheelZoomTool\"},{\"attributes\":{},\"id\":\"74360\",\"type\":\"ResetTool\"},{\"attributes\":{\"callback\":null,\"end\":1.4,\"start\":-1.4},\"id\":\"74369\",\"type\":\"Range1d\"},{\"attributes\":{\"ticks\":[]},\"id\":\"74364\",\"type\":\"FixedTicker\"},{\"attributes\":{\"ticks\":[]},\"id\":\"74366\",\"type\":\"FixedTicker\"},{\"attributes\":{\"plot\":{\"id\":\"74339\",\"subtype\":\"Figure\",\"type\":\"Plot\"},\"text\":\"Pull-Up\",\"text_baseline\":\"middle\",\"text_font_size\":{\"value\":\"10pt\"},\"x\":1.05,\"y\":0},\"id\":\"74372\",\"type\":\"Label\"},{\"attributes\":{\"plot\":{\"id\":\"74339\",\"subtype\":\"Figure\",\"type\":\"Plot\"},\"text\":\"Catch-and-Shoot\",\"text_align\":\"center\",\"text_baseline\":\"top\",\"text_font_size\":{\"value\":\"10pt\"},\"x\":0,\"y\":-1},\"id\":\"74373\",\"type\":\"Label\"},{\"attributes\":{\"plot\":{\"id\":\"74339\",\"subtype\":\"Figure\",\"type\":\"Plot\"},\"text\":\"Post-Up\",\"text_align\":\"right\",\"text_baseline\":\"middle\",\"text_font_size\":{\"value\":\"10pt\"},\"x\":-1.05,\"y\":0},\"id\":\"74374\",\"type\":\"Label\"},{\"attributes\":{\"line_alpha\":0.8,\"line_color\":\"black\",\"line_dash\":[5,1],\"x\":{\"field\":\"x\"},\"y\":{\"field\":\"y\"}},\"id\":\"74397\",\"type\":\"Line\"},{\"attributes\":{\"fill_alpha\":0.5,\"fill_color\":\"rgb(253, 185, 39)\",\"line_color\":\"rgb(253, 185, 39)\",\"line_width\":2,\"x\":{\"field\":\"x\"},\"y\":{\"field\":\"y\"}},\"id\":\"74376\",\"type\":\"Patch\"},{\"attributes\":{\"fill_alpha\":0.1,\"fill_color\":\"#1f77b4\",\"line_alpha\":0.1,\"line_color\":\"#1f77b4\",\"x\":{\"field\":\"x\"},\"y\":{\"field\":\"y\"}},\"id\":\"74377\",\"type\":\"Patch\"},{\"attributes\":{\"data_source\":{\"id\":\"74335\",\"type\":\"ColumnDataSource\"},\"glyph\":{\"id\":\"74376\",\"type\":\"Patch\"},\"hover_glyph\":null,\"muted_glyph\":null,\"nonselection_glyph\":{\"id\":\"74377\",\"type\":\"Patch\"},\"selection_glyph\":null,\"view\":{\"id\":\"74379\",\"type\":\"CDSView\"}},\"id\":\"74378\",\"type\":\"GlyphRenderer\"},{\"attributes\":{\"source\":{\"id\":\"74335\",\"type\":\"ColumnDataSource\"}},\"id\":\"74379\",\"type\":\"CDSView\"},{\"attributes\":{\"data_source\":{\"id\":\"74337\",\"type\":\"ColumnDataSource\"},\"glyph\":{\"id\":\"74397\",\"type\":\"Line\"},\"hover_glyph\":null,\"muted_glyph\":null,\"nonselection_glyph\":{\"id\":\"74398\",\"type\":\"Line\"},\"selection_glyph\":null,\"view\":{\"id\":\"74400\",\"type\":\"CDSView\"}},\"id\":\"74399\",\"type\":\"GlyphRenderer\"},{\"attributes\":{},\"id\":\"74381\",\"type\":\"BasicTickFormatter\"},{\"attributes\":{\"line_alpha\":0.1,\"line_color\":\"#1f77b4\",\"x\":{\"field\":\"x\"},\"y\":{\"field\":\"y\"}},\"id\":\"74398\",\"type\":\"Line\"},{\"attributes\":{},\"id\":\"74382\",\"type\":\"BasicTickFormatter\"},{\"attributes\":{\"source\":{\"id\":\"74481\",\"type\":\"ColumnDataSource\"}},\"id\":\"74485\",\"type\":\"CDSView\"},{\"attributes\":{\"items\":[{\"id\":\"74384\",\"type\":\"LegendItem\"},{\"id\":\"74395\",\"type\":\"LegendItem\"},{\"id\":\"74408\",\"type\":\"LegendItem\"}],\"label_text_font_size\":{\"value\":\"8pt\"},\"plot\":{\"id\":\"74339\",\"subtype\":\"Figure\",\"type\":\"Plot\"}},\"id\":\"74383\",\"type\":\"Legend\"},{\"attributes\":{\"below\":[{\"id\":\"74440\",\"type\":\"LinearAxis\"}],\"left\":[{\"id\":\"74445\",\"type\":\"LinearAxis\"}],\"outline_line_alpha\":{\"value\":0.5},\"outline_line_width\":{\"value\":5},\"plot_height\":450,\"plot_width\":450,\"renderers\":[{\"id\":\"74440\",\"type\":\"LinearAxis\"},{\"id\":\"74444\",\"type\":\"Grid\"},{\"id\":\"74445\",\"type\":\"LinearAxis\"},{\"id\":\"74449\",\"type\":\"Grid\"},{\"id\":\"74468\",\"type\":\"Legend\"},{\"id\":\"74462\",\"type\":\"GlyphRenderer\"},{\"id\":\"74473\",\"type\":\"GlyphRenderer\"},{\"id\":\"74484\",\"type\":\"GlyphRenderer\"},{\"id\":\"74498\",\"type\":\"GlyphRenderer\"}],\"title\":{\"id\":\"74429\",\"type\":\"Title\"},\"toolbar\":{\"id\":\"74452\",\"type\":\"Toolbar\"},\"x_range\":{\"id\":\"74432\",\"type\":\"DataRange1d\"},\"x_scale\":{\"id\":\"74436\",\"type\":\"LinearScale\"},\"y_range\":{\"id\":\"74457\",\"type\":\"Range1d\"},\"y_scale\":{\"id\":\"74438\",\"type\":\"LinearScale\"}},\"id\":\"74430\",\"subtype\":\"Figure\",\"type\":\"Plot\"},{\"attributes\":{\"label\":{\"value\":\"Rate\"},\"renderers\":[{\"id\":\"74378\",\"type\":\"GlyphRenderer\"}]},\"id\":\"74384\",\"type\":\"LegendItem\"},{\"attributes\":{\"text\":\"<h2>Kevin Durant</h2>\"},\"id\":\"74510\",\"type\":\"Div\"},{\"attributes\":{},\"id\":\"74492\",\"type\":\"UnionRenderers\"},{\"attributes\":{\"fill_alpha\":0.5,\"fill_color\":\"rgb(0, 107, 182)\",\"line_color\":\"rgb(0, 107, 182)\",\"line_width\":2,\"x\":{\"field\":\"x\"},\"y\":{\"field\":\"y\"}},\"id\":\"74386\",\"type\":\"Patch\"},{\"attributes\":{\"fill_alpha\":0.1,\"fill_color\":\"#1f77b4\",\"line_alpha\":0.1,\"line_color\":\"#1f77b4\",\"x\":{\"field\":\"x\"},\"y\":{\"field\":\"y\"}},\"id\":\"74387\",\"type\":\"Patch\"}],\"root_ids\":[\"74513\"]},\"title\":\"Bokeh Application\",\"version\":\"1.0.0\"}};\n",
       "  var render_items = [{\"docid\":\"fb921a36-0266-4d82-b466-817a634ff018\",\"roots\":{\"74513\":\"43c05391-0e04-4957-aca9-2e9ebdbfab2b\"}}];\n",
       "  root.Bokeh.embed.embed_items_notebook(docs_json, render_items);\n",
       "\n",
       "  }\n",
       "  if (root.Bokeh !== undefined) {\n",
       "    embed_document(root);\n",
       "  } else {\n",
       "    var attempts = 0;\n",
       "    var timer = setInterval(function(root) {\n",
       "      if (root.Bokeh !== undefined) {\n",
       "        embed_document(root);\n",
       "        clearInterval(timer);\n",
       "      }\n",
       "      attempts++;\n",
       "      if (attempts > 100) {\n",
       "        console.log(\"Bokeh: ERROR: Unable to run BokehJS code because BokehJS library is missing\");\n",
       "        clearInterval(timer);\n",
       "      }\n",
       "    }, 10, root)\n",
       "  }\n",
       "})(window);"
      ],
      "application/vnd.bokehjs_exec.v0+json": ""
     },
     "metadata": {
      "application/vnd.bokehjs_exec.v0+json": {
       "id": "74513"
      }
     },
     "output_type": "display_data"
    }
   ],
   "source": [
    "show(double_plot(df, 'Kevin Durant', 2018, 'PULL_UP_EV', color_dict, title_dict, skill_max, skill_avg))"
   ]
  },
  {
   "cell_type": "code",
   "execution_count": 215,
   "metadata": {},
   "outputs": [
    {
     "data": {
      "text/plain": [
       "43.593833970662345"
      ]
     },
     "execution_count": 215,
     "metadata": {},
     "output_type": "execute_result"
    }
   ],
   "source": [
    "82*(2**14)/(2**14 + 110**14)"
   ]
  },
  {
   "cell_type": "code",
   "execution_count": 55,
   "metadata": {
    "scrolled": false
   },
   "outputs": [
    {
     "data": {
      "text/html": [
       "\n",
       "\n",
       "\n",
       "\n",
       "\n",
       "\n",
       "  <div class=\"bk-root\" id=\"28abe3c2-ba04-4097-ba18-a58f003a792f\"></div>\n"
      ]
     },
     "metadata": {},
     "output_type": "display_data"
    },
    {
     "data": {
      "application/javascript": [
       "(function(root) {\n",
       "  function embed_document(root) {\n",
       "    \n",
       "  var docs_json = {\"52ced8b1-627b-4df8-a917-51b4b65cb4c5\":{\"roots\":{\"references\":[{\"attributes\":{\"below\":[{\"id\":\"8445\",\"type\":\"LinearAxis\"}],\"left\":[{\"id\":\"8450\",\"type\":\"LinearAxis\"}],\"outline_line_alpha\":{\"value\":0.5},\"outline_line_width\":{\"value\":5},\"plot_height\":450,\"plot_width\":450,\"renderers\":[{\"id\":\"8445\",\"type\":\"LinearAxis\"},{\"id\":\"8449\",\"type\":\"Grid\"},{\"id\":\"8450\",\"type\":\"LinearAxis\"},{\"id\":\"8454\",\"type\":\"Grid\"},{\"id\":\"8473\",\"type\":\"Legend\"},{\"id\":\"8468\",\"type\":\"GlyphRenderer\"},{\"id\":\"8478\",\"type\":\"GlyphRenderer\"},{\"id\":\"8489\",\"type\":\"GlyphRenderer\"},{\"id\":\"8502\",\"type\":\"GlyphRenderer\"},{\"id\":\"8507\",\"type\":\"GlyphRenderer\"},{\"id\":\"8512\",\"type\":\"GlyphRenderer\"},{\"id\":\"8517\",\"type\":\"GlyphRenderer\"}],\"title\":{\"id\":\"8434\",\"type\":\"Title\"},\"toolbar\":{\"id\":\"8457\",\"type\":\"Toolbar\"},\"x_range\":{\"id\":\"8437\",\"type\":\"DataRange1d\"},\"x_scale\":{\"id\":\"8441\",\"type\":\"LinearScale\"},\"y_range\":{\"id\":\"8439\",\"type\":\"DataRange1d\"},\"y_scale\":{\"id\":\"8443\",\"type\":\"LinearScale\"}},\"id\":\"8435\",\"subtype\":\"Figure\",\"type\":\"Plot\"},{\"attributes\":{},\"id\":\"8497\",\"type\":\"Selection\"},{\"attributes\":{\"source\":{\"id\":\"8432\",\"type\":\"ColumnDataSource\"}},\"id\":\"8479\",\"type\":\"CDSView\"},{\"attributes\":{},\"id\":\"8891\",\"type\":\"Selection\"},{\"attributes\":{\"active_drag\":\"auto\",\"active_inspect\":\"auto\",\"active_multi\":null,\"active_scroll\":\"auto\",\"active_tap\":\"auto\",\"autohide\":true,\"tools\":[{\"id\":\"8455\",\"type\":\"WheelZoomTool\"},{\"id\":\"8456\",\"type\":\"ResetTool\"}]},\"id\":\"8457\",\"type\":\"Toolbar\"},{\"attributes\":{\"line_alpha\":0.4,\"line_color\":\"gray\",\"line_width\":0.5,\"x\":{\"field\":\"x\"},\"y\":{\"field\":\"y\"}},\"id\":\"8510\",\"type\":\"Line\"},{\"attributes\":{},\"id\":\"8892\",\"type\":\"UnionRenderers\"},{\"attributes\":{},\"id\":\"8455\",\"type\":\"WheelZoomTool\"},{\"attributes\":{},\"id\":\"8484\",\"type\":\"Selection\"},{\"attributes\":{\"line_alpha\":0.1,\"line_color\":\"#1f77b4\",\"line_width\":0.5,\"x\":{\"field\":\"x\"},\"y\":{\"field\":\"y\"}},\"id\":\"8511\",\"type\":\"Line\"},{\"attributes\":{},\"id\":\"8456\",\"type\":\"ResetTool\"},{\"attributes\":{\"label\":{\"value\":\"Performance\"},\"renderers\":[{\"id\":\"8478\",\"type\":\"GlyphRenderer\"}]},\"id\":\"8485\",\"type\":\"LegendItem\"},{\"attributes\":{},\"id\":\"8890\",\"type\":\"UnionRenderers\"},{\"attributes\":{\"data_source\":{\"id\":\"8509\",\"type\":\"ColumnDataSource\"},\"glyph\":{\"id\":\"8510\",\"type\":\"Line\"},\"hover_glyph\":null,\"muted_glyph\":null,\"nonselection_glyph\":{\"id\":\"8511\",\"type\":\"Line\"},\"selection_glyph\":null,\"view\":{\"id\":\"8513\",\"type\":\"CDSView\"}},\"id\":\"8512\",\"type\":\"GlyphRenderer\"},{\"attributes\":{\"callback\":null,\"data\":{\"x\":[0,0.27772575250836123,0,-0.07660362351437865],\"y\":[0.3474814876869899,0,-0.30797101449275366,0]},\"selected\":{\"id\":\"8484\",\"type\":\"Selection\"},\"selection_policy\":{\"id\":\"8483\",\"type\":\"UnionRenderers\"}},\"id\":\"8431\",\"type\":\"ColumnDataSource\"},{\"attributes\":{\"callback\":null,\"data\":{\"x\":[-0.5,0,0.5,0,-0.5],\"y\":[0,0.5,0,-0.5,0]},\"selected\":{\"id\":\"8893\",\"type\":\"Selection\"},\"selection_policy\":{\"id\":\"8892\",\"type\":\"UnionRenderers\"}},\"id\":\"8499\",\"type\":\"ColumnDataSource\"},{\"attributes\":{\"fill_alpha\":0.5,\"fill_color\":\"rgb(139, 111, 78)\",\"line_color\":\"rgb(139, 111, 78)\",\"line_width\":2,\"x\":{\"field\":\"x\"},\"y\":{\"field\":\"y\"}},\"id\":\"8466\",\"type\":\"Patch\"},{\"attributes\":{\"source\":{\"id\":\"8509\",\"type\":\"ColumnDataSource\"}},\"id\":\"8513\",\"type\":\"CDSView\"},{\"attributes\":{\"callback\":null,\"data\":{\"x\":[0,0.610091743119266,0,-0.758981992709121],\"y\":[0.6479259183415537,0,-0.5761421319796954,0]},\"selected\":{\"id\":\"8497\",\"type\":\"Selection\"},\"selection_policy\":{\"id\":\"8496\",\"type\":\"UnionRenderers\"}},\"id\":\"8432\",\"type\":\"ColumnDataSource\"},{\"attributes\":{\"ticks\":[]},\"id\":\"8460\",\"type\":\"FixedTicker\"},{\"attributes\":{\"line_alpha\":0.8,\"line_color\":\"black\",\"line_dash\":[5,1],\"x\":{\"field\":\"x\"},\"y\":{\"field\":\"y\"}},\"id\":\"8487\",\"type\":\"Line\"},{\"attributes\":{\"callback\":null,\"data\":{\"x\":[-1,0,1,0,-1],\"y\":[0,1,0,-1,0]},\"selected\":{\"id\":\"8899\",\"type\":\"Selection\"},\"selection_policy\":{\"id\":\"8898\",\"type\":\"UnionRenderers\"}},\"id\":\"8514\",\"type\":\"ColumnDataSource\"},{\"attributes\":{\"callback\":null,\"data\":{\"x\":[0,0.5795936134528753,0,-0.40036313840680904,0],\"y\":[0.5422917457462576,0,-0.6153705159498076,0,0.5422917457462576]},\"selected\":{\"id\":\"8891\",\"type\":\"Selection\"},\"selection_policy\":{\"id\":\"8890\",\"type\":\"UnionRenderers\"}},\"id\":\"8433\",\"type\":\"ColumnDataSource\"},{\"attributes\":{\"ticks\":[]},\"id\":\"8462\",\"type\":\"FixedTicker\"},{\"attributes\":{\"line_alpha\":0.1,\"line_color\":\"#1f77b4\",\"x\":{\"field\":\"x\"},\"y\":{\"field\":\"y\"}},\"id\":\"8488\",\"type\":\"Line\"},{\"attributes\":{\"line_alpha\":0.4,\"line_color\":\"gray\",\"line_width\":0.5,\"x\":{\"field\":\"x\"},\"y\":{\"field\":\"y\"}},\"id\":\"8515\",\"type\":\"Line\"},{\"attributes\":{\"data_source\":{\"id\":\"8433\",\"type\":\"ColumnDataSource\"},\"glyph\":{\"id\":\"8487\",\"type\":\"Line\"},\"hover_glyph\":null,\"muted_glyph\":null,\"nonselection_glyph\":{\"id\":\"8488\",\"type\":\"Line\"},\"selection_glyph\":null,\"view\":{\"id\":\"8490\",\"type\":\"CDSView\"}},\"id\":\"8489\",\"type\":\"GlyphRenderer\"},{\"attributes\":{\"fill_alpha\":0.1,\"fill_color\":\"#1f77b4\",\"line_alpha\":0.1,\"line_color\":\"#1f77b4\",\"x\":{\"field\":\"x\"},\"y\":{\"field\":\"y\"}},\"id\":\"8467\",\"type\":\"Patch\"},{\"attributes\":{\"line_alpha\":0.1,\"line_color\":\"#1f77b4\",\"line_width\":0.5,\"x\":{\"field\":\"x\"},\"y\":{\"field\":\"y\"}},\"id\":\"8516\",\"type\":\"Line\"},{\"attributes\":{\"plot\":null,\"text\":\"2018 Skills and Tendencies\"},\"id\":\"8434\",\"type\":\"Title\"},{\"attributes\":{\"source\":{\"id\":\"8433\",\"type\":\"ColumnDataSource\"}},\"id\":\"8490\",\"type\":\"CDSView\"},{\"attributes\":{\"data_source\":{\"id\":\"8514\",\"type\":\"ColumnDataSource\"},\"glyph\":{\"id\":\"8515\",\"type\":\"Line\"},\"hover_glyph\":null,\"muted_glyph\":null,\"nonselection_glyph\":{\"id\":\"8516\",\"type\":\"Line\"},\"selection_glyph\":null,\"view\":{\"id\":\"8518\",\"type\":\"CDSView\"}},\"id\":\"8517\",\"type\":\"GlyphRenderer\"},{\"attributes\":{\"data_source\":{\"id\":\"8431\",\"type\":\"ColumnDataSource\"},\"glyph\":{\"id\":\"8466\",\"type\":\"Patch\"},\"hover_glyph\":null,\"muted_glyph\":null,\"nonselection_glyph\":{\"id\":\"8467\",\"type\":\"Patch\"},\"selection_glyph\":null,\"view\":{\"id\":\"8469\",\"type\":\"CDSView\"}},\"id\":\"8468\",\"type\":\"GlyphRenderer\"},{\"attributes\":{\"callback\":null},\"id\":\"8437\",\"type\":\"DataRange1d\"},{\"attributes\":{\"source\":{\"id\":\"8431\",\"type\":\"ColumnDataSource\"}},\"id\":\"8469\",\"type\":\"CDSView\"},{\"attributes\":{\"source\":{\"id\":\"8514\",\"type\":\"ColumnDataSource\"}},\"id\":\"8518\",\"type\":\"CDSView\"},{\"attributes\":{\"line_alpha\":0.4,\"line_color\":\"gray\",\"line_width\":0.5,\"x\":{\"field\":\"x\"},\"y\":{\"field\":\"y\"}},\"id\":\"8500\",\"type\":\"Line\"},{\"attributes\":{\"callback\":null},\"id\":\"8439\",\"type\":\"DataRange1d\"},{\"attributes\":{},\"id\":\"8471\",\"type\":\"BasicTickFormatter\"},{\"attributes\":{\"line_alpha\":0.1,\"line_color\":\"#1f77b4\",\"line_width\":0.5,\"x\":{\"field\":\"x\"},\"y\":{\"field\":\"y\"}},\"id\":\"8501\",\"type\":\"Line\"},{\"attributes\":{},\"id\":\"8896\",\"type\":\"UnionRenderers\"},{\"attributes\":{},\"id\":\"8441\",\"type\":\"LinearScale\"},{\"attributes\":{\"data_source\":{\"id\":\"8499\",\"type\":\"ColumnDataSource\"},\"glyph\":{\"id\":\"8500\",\"type\":\"Line\"},\"hover_glyph\":null,\"muted_glyph\":null,\"nonselection_glyph\":{\"id\":\"8501\",\"type\":\"Line\"},\"selection_glyph\":null,\"view\":{\"id\":\"8503\",\"type\":\"CDSView\"}},\"id\":\"8502\",\"type\":\"GlyphRenderer\"},{\"attributes\":{},\"id\":\"8472\",\"type\":\"BasicTickFormatter\"},{\"attributes\":{},\"id\":\"8897\",\"type\":\"Selection\"},{\"attributes\":{},\"id\":\"8443\",\"type\":\"LinearScale\"},{\"attributes\":{\"source\":{\"id\":\"8499\",\"type\":\"ColumnDataSource\"}},\"id\":\"8503\",\"type\":\"CDSView\"},{\"attributes\":{\"items\":[{\"id\":\"8474\",\"type\":\"LegendItem\"},{\"id\":\"8485\",\"type\":\"LegendItem\"},{\"id\":\"8498\",\"type\":\"LegendItem\"}],\"plot\":{\"id\":\"8435\",\"subtype\":\"Figure\",\"type\":\"Plot\"}},\"id\":\"8473\",\"type\":\"Legend\"},{\"attributes\":{},\"id\":\"8898\",\"type\":\"UnionRenderers\"},{\"attributes\":{\"bounds\":[-1,1],\"fixed_location\":0,\"formatter\":{\"id\":\"8471\",\"type\":\"BasicTickFormatter\"},\"major_tick_line_color\":{\"value\":null},\"minor_tick_line_color\":{\"value\":null},\"plot\":{\"id\":\"8435\",\"subtype\":\"Figure\",\"type\":\"Plot\"},\"ticker\":{\"id\":\"8460\",\"type\":\"FixedTicker\"}},\"id\":\"8445\",\"type\":\"LinearAxis\"},{\"attributes\":{\"callback\":null,\"data\":{\"x\":[-0.25,0,0.25,0,-0.25],\"y\":[0,0.25,0,-0.25,0]},\"selected\":{\"id\":\"8895\",\"type\":\"Selection\"},\"selection_policy\":{\"id\":\"8894\",\"type\":\"UnionRenderers\"}},\"id\":\"8504\",\"type\":\"ColumnDataSource\"},{\"attributes\":{},\"id\":\"8899\",\"type\":\"Selection\"},{\"attributes\":{},\"id\":\"8446\",\"type\":\"BasicTicker\"},{\"attributes\":{\"label\":{\"value\":\"Rate\"},\"renderers\":[{\"id\":\"8468\",\"type\":\"GlyphRenderer\"}]},\"id\":\"8474\",\"type\":\"LegendItem\"},{\"attributes\":{\"line_alpha\":0.4,\"line_color\":\"gray\",\"line_width\":0.5,\"x\":{\"field\":\"x\"},\"y\":{\"field\":\"y\"}},\"id\":\"8505\",\"type\":\"Line\"},{\"attributes\":{},\"id\":\"8496\",\"type\":\"UnionRenderers\"},{\"attributes\":{\"grid_line_color\":{\"value\":null},\"plot\":{\"id\":\"8435\",\"subtype\":\"Figure\",\"type\":\"Plot\"},\"ticker\":{\"id\":\"8446\",\"type\":\"BasicTicker\"}},\"id\":\"8449\",\"type\":\"Grid\"},{\"attributes\":{\"label\":{\"value\":\"Avg Performance\"},\"renderers\":[{\"id\":\"8489\",\"type\":\"GlyphRenderer\"}]},\"id\":\"8498\",\"type\":\"LegendItem\"},{\"attributes\":{},\"id\":\"8895\",\"type\":\"Selection\"},{\"attributes\":{\"line_alpha\":0.1,\"line_color\":\"#1f77b4\",\"line_width\":0.5,\"x\":{\"field\":\"x\"},\"y\":{\"field\":\"y\"}},\"id\":\"8506\",\"type\":\"Line\"},{\"attributes\":{\"fill_alpha\":0.5,\"fill_color\":\"rgb(0, 122, 51)\",\"line_color\":\"rgb(0, 122, 51)\",\"line_width\":2,\"x\":{\"field\":\"x\"},\"y\":{\"field\":\"y\"}},\"id\":\"8476\",\"type\":\"Patch\"},{\"attributes\":{},\"id\":\"8894\",\"type\":\"UnionRenderers\"},{\"attributes\":{\"bounds\":[-1,1],\"fixed_location\":0,\"formatter\":{\"id\":\"8472\",\"type\":\"BasicTickFormatter\"},\"major_tick_line_color\":{\"value\":null},\"minor_tick_line_color\":{\"value\":null},\"plot\":{\"id\":\"8435\",\"subtype\":\"Figure\",\"type\":\"Plot\"},\"ticker\":{\"id\":\"8462\",\"type\":\"FixedTicker\"}},\"id\":\"8450\",\"type\":\"LinearAxis\"},{\"attributes\":{},\"id\":\"8893\",\"type\":\"Selection\"},{\"attributes\":{\"data_source\":{\"id\":\"8504\",\"type\":\"ColumnDataSource\"},\"glyph\":{\"id\":\"8505\",\"type\":\"Line\"},\"hover_glyph\":null,\"muted_glyph\":null,\"nonselection_glyph\":{\"id\":\"8506\",\"type\":\"Line\"},\"selection_glyph\":null,\"view\":{\"id\":\"8508\",\"type\":\"CDSView\"}},\"id\":\"8507\",\"type\":\"GlyphRenderer\"},{\"attributes\":{\"fill_alpha\":0.1,\"fill_color\":\"#1f77b4\",\"line_alpha\":0.1,\"line_color\":\"#1f77b4\",\"x\":{\"field\":\"x\"},\"y\":{\"field\":\"y\"}},\"id\":\"8477\",\"type\":\"Patch\"},{\"attributes\":{},\"id\":\"8451\",\"type\":\"BasicTicker\"},{\"attributes\":{},\"id\":\"8483\",\"type\":\"UnionRenderers\"},{\"attributes\":{\"source\":{\"id\":\"8504\",\"type\":\"ColumnDataSource\"}},\"id\":\"8508\",\"type\":\"CDSView\"},{\"attributes\":{\"data_source\":{\"id\":\"8432\",\"type\":\"ColumnDataSource\"},\"glyph\":{\"id\":\"8476\",\"type\":\"Patch\"},\"hover_glyph\":null,\"muted_glyph\":null,\"nonselection_glyph\":{\"id\":\"8477\",\"type\":\"Patch\"},\"selection_glyph\":null,\"view\":{\"id\":\"8479\",\"type\":\"CDSView\"}},\"id\":\"8478\",\"type\":\"GlyphRenderer\"},{\"attributes\":{\"dimension\":1,\"grid_line_color\":{\"value\":null},\"plot\":{\"id\":\"8435\",\"subtype\":\"Figure\",\"type\":\"Plot\"},\"ticker\":{\"id\":\"8451\",\"type\":\"BasicTicker\"}},\"id\":\"8454\",\"type\":\"Grid\"},{\"attributes\":{\"callback\":null,\"data\":{\"x\":[-0.75,0,0.75,0,-0.75],\"y\":[0,0.75,0,-0.75,0]},\"selected\":{\"id\":\"8897\",\"type\":\"Selection\"},\"selection_policy\":{\"id\":\"8896\",\"type\":\"UnionRenderers\"}},\"id\":\"8509\",\"type\":\"ColumnDataSource\"}],\"root_ids\":[\"8435\"]},\"title\":\"Bokeh Application\",\"version\":\"1.0.0\"}};\n",
       "  var render_items = [{\"docid\":\"52ced8b1-627b-4df8-a917-51b4b65cb4c5\",\"roots\":{\"8435\":\"28abe3c2-ba04-4097-ba18-a58f003a792f\"}}];\n",
       "  root.Bokeh.embed.embed_items_notebook(docs_json, render_items);\n",
       "\n",
       "  }\n",
       "  if (root.Bokeh !== undefined) {\n",
       "    embed_document(root);\n",
       "  } else {\n",
       "    var attempts = 0;\n",
       "    var timer = setInterval(function(root) {\n",
       "      if (root.Bokeh !== undefined) {\n",
       "        embed_document(root);\n",
       "        clearInterval(timer);\n",
       "      }\n",
       "      attempts++;\n",
       "      if (attempts > 100) {\n",
       "        console.log(\"Bokeh: ERROR: Unable to run BokehJS code because BokehJS library is missing\");\n",
       "        clearInterval(timer);\n",
       "      }\n",
       "    }, 10, root)\n",
       "  }\n",
       "})(window);"
      ],
      "application/vnd.bokehjs_exec.v0+json": ""
     },
     "metadata": {
      "application/vnd.bokehjs_exec.v0+json": {
       "id": "8435"
      }
     },
     "output_type": "display_data"
    }
   ],
   "source": [
    "show(graph_skills(df, 'Marcus Smart', 2018, color_dict, title_dict, skill_max, skill_avg))"
   ]
  },
  {
   "cell_type": "code",
   "execution_count": 16,
   "metadata": {},
   "outputs": [
    {
     "data": {
      "text/html": [
       "\n",
       "\n",
       "\n",
       "\n",
       "\n",
       "\n",
       "  <div class=\"bk-root\" id=\"30d0d098-8f2d-43cd-bec0-54911cfbd61d\"></div>\n"
      ]
     },
     "metadata": {},
     "output_type": "display_data"
    },
    {
     "data": {
      "application/javascript": [
       "(function(root) {\n",
       "  function embed_document(root) {\n",
       "    \n",
       "  var docs_json = {\"c59be0f3-0ecf-478f-8281-632f50b6c3e4\":{\"roots\":{\"references\":[{\"attributes\":{\"below\":[{\"id\":\"2024\",\"type\":\"LinearAxis\"}],\"left\":[{\"id\":\"2029\",\"type\":\"LinearAxis\"}],\"outline_line_alpha\":{\"value\":0.5},\"outline_line_width\":{\"value\":5},\"plot_height\":450,\"plot_width\":450,\"renderers\":[{\"id\":\"2024\",\"type\":\"LinearAxis\"},{\"id\":\"2028\",\"type\":\"Grid\"},{\"id\":\"2029\",\"type\":\"LinearAxis\"},{\"id\":\"2033\",\"type\":\"Grid\"},{\"id\":\"2051\",\"type\":\"Legend\"},{\"id\":\"2044\",\"type\":\"GlyphRenderer\"},{\"id\":\"2056\",\"type\":\"GlyphRenderer\"},{\"id\":\"2068\",\"type\":\"GlyphRenderer\"},{\"id\":\"2083\",\"type\":\"GlyphRenderer\"}],\"title\":{\"id\":\"2013\",\"type\":\"Title\"},\"toolbar\":{\"id\":\"2036\",\"type\":\"Toolbar\"},\"x_range\":{\"id\":\"2016\",\"type\":\"DataRange1d\"},\"x_scale\":{\"id\":\"2020\",\"type\":\"LinearScale\"},\"y_range\":{\"id\":\"2039\",\"type\":\"Range1d\"},\"y_scale\":{\"id\":\"2022\",\"type\":\"LinearScale\"}},\"id\":\"2014\",\"subtype\":\"Figure\",\"type\":\"Plot\"},{\"attributes\":{\"items\":[{\"id\":\"2052\",\"type\":\"LegendItem\"},{\"id\":\"2079\",\"type\":\"LegendItem\"}],\"plot\":{\"id\":\"2014\",\"subtype\":\"Figure\",\"type\":\"Plot\"}},\"id\":\"2051\",\"type\":\"Legend\"},{\"attributes\":{},\"id\":\"2020\",\"type\":\"LinearScale\"},{\"attributes\":{\"callback\":null,\"data\":{\"x\":[2019,2018,2017,2016,2015,2014],\"y\":{\"__ndarray__\":\"FrgueaJ8vj8jPKvbbwi/PxSCQOXYirk/Gdn4smB1vD/mToZRfs/BPwAAAAAAAPh/\",\"dtype\":\"float64\",\"shape\":[6]}},\"selected\":{\"id\":\"2155\",\"type\":\"Selection\"},\"selection_policy\":{\"id\":\"2154\",\"type\":\"UnionRenderers\"}},\"id\":\"2080\",\"type\":\"ColumnDataSource\"},{\"attributes\":{},\"id\":\"2022\",\"type\":\"LinearScale\"},{\"attributes\":{\"fill_color\":{\"value\":\"rgb(139, 111, 78)\"},\"line_color\":{\"value\":\"rgb(139, 111, 78)\"},\"line_width\":{\"value\":2},\"size\":{\"units\":\"screen\",\"value\":10},\"x\":{\"field\":\"x\"},\"y\":{\"field\":\"y\"}},\"id\":\"2081\",\"type\":\"Circle\"},{\"attributes\":{\"label\":{\"value\":\"Actual\"},\"renderers\":[{\"id\":\"2044\",\"type\":\"GlyphRenderer\"},{\"id\":\"2056\",\"type\":\"GlyphRenderer\"}]},\"id\":\"2052\",\"type\":\"LegendItem\"},{\"attributes\":{\"callback\":null,\"data\":{\"x\":[2019,2018,2017,2016,2015,2014],\"y\":{\"__ndarray__\":\"AAAAAAAA+H+eCmY4ztG9P1Nc4HHolMU/6Zl/YMeGtz/O+xSXDMG6P5KXSu8LHMU/\",\"dtype\":\"float64\",\"shape\":[6]}},\"selected\":{\"id\":\"2078\",\"type\":\"Selection\"},\"selection_policy\":{\"id\":\"2077\",\"type\":\"UnionRenderers\"}},\"id\":\"2053\",\"type\":\"ColumnDataSource\"},{\"attributes\":{\"axis_label\":\"Season\",\"formatter\":{\"id\":\"2048\",\"type\":\"BasicTickFormatter\"},\"minor_tick_in\":-3,\"minor_tick_line_color\":{\"value\":null},\"minor_tick_out\":6,\"plot\":{\"id\":\"2014\",\"subtype\":\"Figure\",\"type\":\"Plot\"},\"ticker\":{\"id\":\"2025\",\"type\":\"BasicTicker\"}},\"id\":\"2024\",\"type\":\"LinearAxis\"},{\"attributes\":{\"fill_alpha\":{\"value\":0.1},\"fill_color\":{\"value\":\"#1f77b4\"},\"line_alpha\":{\"value\":0.1},\"line_color\":{\"value\":\"#1f77b4\"},\"x\":{\"field\":\"x\"},\"y\":{\"field\":\"y\"}},\"id\":\"2082\",\"type\":\"Circle\"},{\"attributes\":{\"fill_color\":{\"value\":\"rgb(0, 122, 51)\"},\"line_color\":{\"value\":\"rgb(0, 122, 51)\"},\"line_width\":{\"value\":2},\"size\":{\"units\":\"screen\",\"value\":10},\"x\":{\"field\":\"x\"},\"y\":{\"field\":\"y\"}},\"id\":\"2054\",\"type\":\"Circle\"},{\"attributes\":{},\"id\":\"2025\",\"type\":\"BasicTicker\"},{\"attributes\":{},\"id\":\"2094\",\"type\":\"UnionRenderers\"},{\"attributes\":{\"fill_alpha\":{\"value\":0.1},\"fill_color\":{\"value\":\"#1f77b4\"},\"line_alpha\":{\"value\":0.1},\"line_color\":{\"value\":\"#1f77b4\"},\"x\":{\"field\":\"x\"},\"y\":{\"field\":\"y\"}},\"id\":\"2055\",\"type\":\"Circle\"},{\"attributes\":{\"plot\":{\"id\":\"2014\",\"subtype\":\"Figure\",\"type\":\"Plot\"},\"ticker\":{\"id\":\"2025\",\"type\":\"BasicTicker\"}},\"id\":\"2028\",\"type\":\"Grid\"},{\"attributes\":{},\"id\":\"2095\",\"type\":\"Selection\"},{\"attributes\":{\"data_source\":{\"id\":\"2053\",\"type\":\"ColumnDataSource\"},\"glyph\":{\"id\":\"2054\",\"type\":\"Circle\"},\"hover_glyph\":null,\"muted_glyph\":null,\"nonselection_glyph\":{\"id\":\"2055\",\"type\":\"Circle\"},\"selection_glyph\":null,\"view\":{\"id\":\"2057\",\"type\":\"CDSView\"}},\"id\":\"2056\",\"type\":\"GlyphRenderer\"},{\"attributes\":{\"axis_label\":\"Rate\",\"formatter\":{\"id\":\"2050\",\"type\":\"BasicTickFormatter\"},\"minor_tick_in\":-3,\"minor_tick_out\":6,\"plot\":{\"id\":\"2014\",\"subtype\":\"Figure\",\"type\":\"Plot\"},\"ticker\":{\"id\":\"2030\",\"type\":\"BasicTicker\"}},\"id\":\"2029\",\"type\":\"LinearAxis\"},{\"attributes\":{},\"id\":\"2154\",\"type\":\"UnionRenderers\"},{\"attributes\":{\"source\":{\"id\":\"2053\",\"type\":\"ColumnDataSource\"}},\"id\":\"2057\",\"type\":\"CDSView\"},{\"attributes\":{},\"id\":\"2030\",\"type\":\"BasicTicker\"},{\"attributes\":{},\"id\":\"2155\",\"type\":\"Selection\"},{\"attributes\":{},\"id\":\"2063\",\"type\":\"UnionRenderers\"},{\"attributes\":{\"dimension\":1,\"plot\":{\"id\":\"2014\",\"subtype\":\"Figure\",\"type\":\"Plot\"},\"ticker\":{\"id\":\"2030\",\"type\":\"BasicTicker\"}},\"id\":\"2033\",\"type\":\"Grid\"},{\"attributes\":{},\"id\":\"2064\",\"type\":\"Selection\"},{\"attributes\":{\"active_drag\":\"auto\",\"active_inspect\":\"auto\",\"active_multi\":null,\"active_scroll\":\"auto\",\"active_tap\":\"auto\",\"autohide\":true,\"tools\":[{\"id\":\"2034\",\"type\":\"WheelZoomTool\"},{\"id\":\"2035\",\"type\":\"ResetTool\"}]},\"id\":\"2036\",\"type\":\"Toolbar\"},{\"attributes\":{},\"id\":\"2034\",\"type\":\"WheelZoomTool\"},{\"attributes\":{\"callback\":null,\"data\":{\"x\":[2019,2018,2017,2016,2015,2014],\"y\":{\"__ndarray__\":\"FrgueaJ8vj8jPKvbbwi/PxSCQOXYirk/Gdn4smB1vD/mToZRfs/BPwAAAAAAAPh/\",\"dtype\":\"float64\",\"shape\":[6]}},\"selected\":{\"id\":\"2095\",\"type\":\"Selection\"},\"selection_policy\":{\"id\":\"2094\",\"type\":\"UnionRenderers\"}},\"id\":\"2065\",\"type\":\"ColumnDataSource\"},{\"attributes\":{},\"id\":\"2035\",\"type\":\"ResetTool\"},{\"attributes\":{\"line_color\":\"rgb(139, 111, 78)\",\"line_dash\":[5,1],\"line_width\":2,\"x\":{\"field\":\"x\"},\"y\":{\"field\":\"y\"}},\"id\":\"2066\",\"type\":\"Line\"},{\"attributes\":{\"callback\":null,\"end\":0.4187755102040817},\"id\":\"2039\",\"type\":\"Range1d\"},{\"attributes\":{\"callback\":null,\"data\":{\"x\":[2019,2018,2017,2016,2015,2014],\"y\":{\"__ndarray__\":\"AAAAAAAA+H+eCmY4ztG9P1Nc4HHolMU/6Zl/YMeGtz/O+xSXDMG6P5KXSu8LHMU/\",\"dtype\":\"float64\",\"shape\":[6]}},\"selected\":{\"id\":\"2064\",\"type\":\"Selection\"},\"selection_policy\":{\"id\":\"2063\",\"type\":\"UnionRenderers\"}},\"id\":\"2041\",\"type\":\"ColumnDataSource\"},{\"attributes\":{\"line_alpha\":0.1,\"line_color\":\"#1f77b4\",\"x\":{\"field\":\"x\"},\"y\":{\"field\":\"y\"}},\"id\":\"2067\",\"type\":\"Line\"},{\"attributes\":{\"line_color\":\"rgb(0, 122, 51)\",\"line_width\":2,\"x\":{\"field\":\"x\"},\"y\":{\"field\":\"y\"}},\"id\":\"2042\",\"type\":\"Line\"},{\"attributes\":{},\"id\":\"2048\",\"type\":\"BasicTickFormatter\"},{\"attributes\":{\"data_source\":{\"id\":\"2065\",\"type\":\"ColumnDataSource\"},\"glyph\":{\"id\":\"2066\",\"type\":\"Line\"},\"hover_glyph\":null,\"muted_glyph\":null,\"nonselection_glyph\":{\"id\":\"2067\",\"type\":\"Line\"},\"selection_glyph\":null,\"view\":{\"id\":\"2069\",\"type\":\"CDSView\"}},\"id\":\"2068\",\"type\":\"GlyphRenderer\"},{\"attributes\":{\"label\":{\"value\":\"Predictions\"},\"renderers\":[{\"id\":\"2068\",\"type\":\"GlyphRenderer\"},{\"id\":\"2083\",\"type\":\"GlyphRenderer\"}]},\"id\":\"2079\",\"type\":\"LegendItem\"},{\"attributes\":{\"line_alpha\":0.1,\"line_color\":\"#1f77b4\",\"x\":{\"field\":\"x\"},\"y\":{\"field\":\"y\"}},\"id\":\"2043\",\"type\":\"Line\"},{\"attributes\":{\"callback\":null},\"id\":\"2016\",\"type\":\"DataRange1d\"},{\"attributes\":{\"source\":{\"id\":\"2065\",\"type\":\"ColumnDataSource\"}},\"id\":\"2069\",\"type\":\"CDSView\"},{\"attributes\":{\"data_source\":{\"id\":\"2041\",\"type\":\"ColumnDataSource\"},\"glyph\":{\"id\":\"2042\",\"type\":\"Line\"},\"hover_glyph\":null,\"muted_glyph\":null,\"nonselection_glyph\":{\"id\":\"2043\",\"type\":\"Line\"},\"selection_glyph\":null,\"view\":{\"id\":\"2045\",\"type\":\"CDSView\"}},\"id\":\"2044\",\"type\":\"GlyphRenderer\"},{\"attributes\":{},\"id\":\"2077\",\"type\":\"UnionRenderers\"},{\"attributes\":{\"source\":{\"id\":\"2080\",\"type\":\"ColumnDataSource\"}},\"id\":\"2084\",\"type\":\"CDSView\"},{\"attributes\":{\"source\":{\"id\":\"2041\",\"type\":\"ColumnDataSource\"}},\"id\":\"2045\",\"type\":\"CDSView\"},{\"attributes\":{\"plot\":null,\"text\":\"Post-Up Rate\"},\"id\":\"2013\",\"type\":\"Title\"},{\"attributes\":{},\"id\":\"2078\",\"type\":\"Selection\"},{\"attributes\":{\"data_source\":{\"id\":\"2080\",\"type\":\"ColumnDataSource\"},\"glyph\":{\"id\":\"2081\",\"type\":\"Circle\"},\"hover_glyph\":null,\"muted_glyph\":null,\"nonselection_glyph\":{\"id\":\"2082\",\"type\":\"Circle\"},\"selection_glyph\":null,\"view\":{\"id\":\"2084\",\"type\":\"CDSView\"}},\"id\":\"2083\",\"type\":\"GlyphRenderer\"},{\"attributes\":{},\"id\":\"2050\",\"type\":\"BasicTickFormatter\"}],\"root_ids\":[\"2014\"]},\"title\":\"Bokeh Application\",\"version\":\"1.0.0\"}};\n",
       "  var render_items = [{\"docid\":\"c59be0f3-0ecf-478f-8281-632f50b6c3e4\",\"roots\":{\"2014\":\"30d0d098-8f2d-43cd-bec0-54911cfbd61d\"}}];\n",
       "  root.Bokeh.embed.embed_items_notebook(docs_json, render_items);\n",
       "\n",
       "  }\n",
       "  if (root.Bokeh !== undefined) {\n",
       "    embed_document(root);\n",
       "  } else {\n",
       "    var attempts = 0;\n",
       "    var timer = setInterval(function(root) {\n",
       "      if (root.Bokeh !== undefined) {\n",
       "        embed_document(root);\n",
       "        clearInterval(timer);\n",
       "      }\n",
       "      attempts++;\n",
       "      if (attempts > 100) {\n",
       "        console.log(\"Bokeh: ERROR: Unable to run BokehJS code because BokehJS library is missing\");\n",
       "        clearInterval(timer);\n",
       "      }\n",
       "    }, 10, root)\n",
       "  }\n",
       "})(window);"
      ],
      "application/vnd.bokehjs_exec.v0+json": ""
     },
     "metadata": {
      "application/vnd.bokehjs_exec.v0+json": {
       "id": "2014"
      }
     },
     "output_type": "display_data"
    }
   ],
   "source": [
    "show(graph_trends(df, 'Al Horford', 'POST_TOUCH_RATE', color_dict, title_dict))"
   ]
  },
  {
   "cell_type": "code",
   "execution_count": 153,
   "metadata": {},
   "outputs": [
    {
     "data": {
      "text/html": [
       "<div>\n",
       "<style scoped>\n",
       "    .dataframe tbody tr th:only-of-type {\n",
       "        vertical-align: middle;\n",
       "    }\n",
       "\n",
       "    .dataframe tbody tr th {\n",
       "        vertical-align: top;\n",
       "    }\n",
       "\n",
       "    .dataframe thead th {\n",
       "        text-align: right;\n",
       "    }\n",
       "</style>\n",
       "<table border=\"1\" class=\"dataframe\">\n",
       "  <thead>\n",
       "    <tr style=\"text-align: right;\">\n",
       "      <th></th>\n",
       "      <th>PLAYER_ID</th>\n",
       "      <th>POST_TOUCH_EV</th>\n",
       "      <th>CATCH_SHOOT_EV</th>\n",
       "      <th>PULL_UP_EV</th>\n",
       "      <th>DRIVE_EV</th>\n",
       "      <th>POST_TOUCH_RATE</th>\n",
       "      <th>CATCH_SHOOT_RATE</th>\n",
       "      <th>PULL_UP_RATE</th>\n",
       "      <th>DRIVE_RATE</th>\n",
       "    </tr>\n",
       "  </thead>\n",
       "  <tbody>\n",
       "    <tr>\n",
       "      <th>count</th>\n",
       "      <td>2.397000e+03</td>\n",
       "      <td>1291.000000</td>\n",
       "      <td>2036.000000</td>\n",
       "      <td>2036.000000</td>\n",
       "      <td>1931.000000</td>\n",
       "      <td>2036.000000</td>\n",
       "      <td>2036.000000</td>\n",
       "      <td>2036.000000</td>\n",
       "      <td>2036.000000</td>\n",
       "    </tr>\n",
       "    <tr>\n",
       "      <th>mean</th>\n",
       "      <td>3.106529e+05</td>\n",
       "      <td>0.779468</td>\n",
       "      <td>0.938162</td>\n",
       "      <td>0.723985</td>\n",
       "      <td>0.819514</td>\n",
       "      <td>0.035458</td>\n",
       "      <td>0.108023</td>\n",
       "      <td>0.076243</td>\n",
       "      <td>0.105191</td>\n",
       "    </tr>\n",
       "    <tr>\n",
       "      <th>std</th>\n",
       "      <td>4.458900e+05</td>\n",
       "      <td>0.372199</td>\n",
       "      <td>0.288595</td>\n",
       "      <td>0.311625</td>\n",
       "      <td>0.302040</td>\n",
       "      <td>0.056401</td>\n",
       "      <td>0.062138</td>\n",
       "      <td>0.066989</td>\n",
       "      <td>0.091798</td>\n",
       "    </tr>\n",
       "    <tr>\n",
       "      <th>min</th>\n",
       "      <td>7.080000e+02</td>\n",
       "      <td>-1.154011</td>\n",
       "      <td>0.000000</td>\n",
       "      <td>0.000000</td>\n",
       "      <td>-1.136581</td>\n",
       "      <td>0.000000</td>\n",
       "      <td>0.000000</td>\n",
       "      <td>0.000000</td>\n",
       "      <td>0.000000</td>\n",
       "    </tr>\n",
       "    <tr>\n",
       "      <th>25%</th>\n",
       "      <td>2.011470e+05</td>\n",
       "      <td>0.644148</td>\n",
       "      <td>0.822000</td>\n",
       "      <td>0.616000</td>\n",
       "      <td>0.706065</td>\n",
       "      <td>0.000000</td>\n",
       "      <td>0.063213</td>\n",
       "      <td>0.021710</td>\n",
       "      <td>0.033938</td>\n",
       "    </tr>\n",
       "    <tr>\n",
       "      <th>50%</th>\n",
       "      <td>2.023480e+05</td>\n",
       "      <td>0.824177</td>\n",
       "      <td>0.986000</td>\n",
       "      <td>0.782000</td>\n",
       "      <td>0.828932</td>\n",
       "      <td>0.010499</td>\n",
       "      <td>0.103003</td>\n",
       "      <td>0.058396</td>\n",
       "      <td>0.078610</td>\n",
       "    </tr>\n",
       "    <tr>\n",
       "      <th>75%</th>\n",
       "      <td>2.034860e+05</td>\n",
       "      <td>1.000000</td>\n",
       "      <td>1.112000</td>\n",
       "      <td>0.888000</td>\n",
       "      <td>0.942495</td>\n",
       "      <td>0.048052</td>\n",
       "      <td>0.148760</td>\n",
       "      <td>0.115590</td>\n",
       "      <td>0.155602</td>\n",
       "    </tr>\n",
       "    <tr>\n",
       "      <th>max</th>\n",
       "      <td>1.628021e+06</td>\n",
       "      <td>2.000000</td>\n",
       "      <td>3.000000</td>\n",
       "      <td>3.000000</td>\n",
       "      <td>4.000000</td>\n",
       "      <td>0.418776</td>\n",
       "      <td>0.384615</td>\n",
       "      <td>0.361272</td>\n",
       "      <td>0.578947</td>\n",
       "    </tr>\n",
       "  </tbody>\n",
       "</table>\n",
       "</div>"
      ],
      "text/plain": [
       "          PLAYER_ID  POST_TOUCH_EV  CATCH_SHOOT_EV   PULL_UP_EV     DRIVE_EV  \\\n",
       "count  2.397000e+03    1291.000000     2036.000000  2036.000000  1931.000000   \n",
       "mean   3.106529e+05       0.779468        0.938162     0.723985     0.819514   \n",
       "std    4.458900e+05       0.372199        0.288595     0.311625     0.302040   \n",
       "min    7.080000e+02      -1.154011        0.000000     0.000000    -1.136581   \n",
       "25%    2.011470e+05       0.644148        0.822000     0.616000     0.706065   \n",
       "50%    2.023480e+05       0.824177        0.986000     0.782000     0.828932   \n",
       "75%    2.034860e+05       1.000000        1.112000     0.888000     0.942495   \n",
       "max    1.628021e+06       2.000000        3.000000     3.000000     4.000000   \n",
       "\n",
       "       POST_TOUCH_RATE  CATCH_SHOOT_RATE  PULL_UP_RATE   DRIVE_RATE  \n",
       "count      2036.000000       2036.000000   2036.000000  2036.000000  \n",
       "mean          0.035458          0.108023      0.076243     0.105191  \n",
       "std           0.056401          0.062138      0.066989     0.091798  \n",
       "min           0.000000          0.000000      0.000000     0.000000  \n",
       "25%           0.000000          0.063213      0.021710     0.033938  \n",
       "50%           0.010499          0.103003      0.058396     0.078610  \n",
       "75%           0.048052          0.148760      0.115590     0.155602  \n",
       "max           0.418776          0.384615      0.361272     0.578947  "
      ]
     },
     "execution_count": 153,
     "metadata": {},
     "output_type": "execute_result"
    }
   ],
   "source": [
    "columns_of_interest = [col for col in df.columns if ('PRED' not in col) and ('_' in col)]\n",
    "df[columns_of_interest].describe()"
   ]
  },
  {
   "cell_type": "code",
   "execution_count": 101,
   "metadata": {},
   "outputs": [],
   "source": [
    "master_df = pd.read_csv('./data/master_df', index_col=0)"
   ]
  },
  {
   "cell_type": "code",
   "execution_count": 105,
   "metadata": {},
   "outputs": [],
   "source": [
    "target_cols = [col for col in title_dict.keys()]"
   ]
  },
  {
   "cell_type": "code",
   "execution_count": 114,
   "metadata": {},
   "outputs": [
    {
     "data": {
      "text/plain": [
       "0.9698239331368969"
      ]
     },
     "execution_count": 114,
     "metadata": {},
     "output_type": "execute_result"
    }
   ],
   "source": [
    "(master_df['CATCH_SHOOT_EV'] * master_df['MIN']).sum()/master_df['MIN'].sum()"
   ]
  },
  {
   "cell_type": "code",
   "execution_count": 116,
   "metadata": {},
   "outputs": [],
   "source": [
    "avg_dict = {}"
   ]
  },
  {
   "cell_type": "code",
   "execution_count": 117,
   "metadata": {},
   "outputs": [],
   "source": [
    "for col in target_cols:\n",
    "    avg_dict[col] = (master_df[col] * master_df['MIN']).sum()/master_df['MIN'].sum()"
   ]
  },
  {
   "cell_type": "code",
   "execution_count": 119,
   "metadata": {},
   "outputs": [
    {
     "data": {
      "text/plain": [
       "{'POST_TOUCH_RATE': 0.03978835715950378,\n",
       " 'POST_TOUCH_EV': 0.5362031339674892,\n",
       " 'DRIVE_RATE': 0.11624891464574634,\n",
       " 'DRIVE_EV': 0.8134376186193863,\n",
       " 'CATCH_SHOOT_RATE': 0.10991854980561748,\n",
       " 'CATCH_SHOOT_EV': 0.9698239331368969,\n",
       " 'PULL_UP_RATE': 0.08614674479312547,\n",
       " 'PULL_UP_EV': 0.7581084463963609}"
      ]
     },
     "execution_count": 119,
     "metadata": {},
     "output_type": "execute_result"
    }
   ],
   "source": [
    "avg_dict"
   ]
  },
  {
   "cell_type": "code",
   "execution_count": null,
   "metadata": {},
   "outputs": [],
   "source": []
  }
 ],
 "metadata": {
  "kernelspec": {
   "display_name": "Python [conda env:dsi]",
   "language": "python",
   "name": "conda-env-dsi-py"
  },
  "language_info": {
   "codemirror_mode": {
    "name": "ipython",
    "version": 3
   },
   "file_extension": ".py",
   "mimetype": "text/x-python",
   "name": "python",
   "nbconvert_exporter": "python",
   "pygments_lexer": "ipython3",
   "version": "3.6.5"
  }
 },
 "nbformat": 4,
 "nbformat_minor": 2
}
