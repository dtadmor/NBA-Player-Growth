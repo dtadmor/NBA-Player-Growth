{
 "cells": [
  {
   "cell_type": "markdown",
   "metadata": {},
   "source": [
    "# Point Values\n",
    "In this notebook, I will create and analyze models to determine the value, in wins, of different methods of scoring.\n",
    "\n",
    "Goals:\n",
    "- Create the expected value and rates for each play type for each player\n",
    "- Use points per minute for each play type to predict wins\n",
    "- Determine if points for different plays are equal (AKA are there underlying patterns that might need to be explored better?)\n",
    "\n",
    "Conclusions:  \n"
   ]
  },
  {
   "cell_type": "markdown",
   "metadata": {},
   "source": [
    "# Importing Libraries and Data"
   ]
  },
  {
   "cell_type": "code",
   "execution_count": 163,
   "metadata": {},
   "outputs": [],
   "source": [
    "# Importing libraries and scripts\n",
    "import pandas as pd\n",
    "from dictionaries import team_map\n",
    "from sklearn.model_selection import cross_val_score, train_test_split\n",
    "from sklearn.linear_model import LinearRegression\n",
    "from sklearn.metrics import mean_absolute_error, make_scorer\n",
    "import statsmodels.api as sm"
   ]
  },
  {
   "cell_type": "code",
   "execution_count": 2,
   "metadata": {},
   "outputs": [],
   "source": [
    "# Loading datasets\n",
    "master_df = pd.read_csv('./data/master_df', index_col=0)\n",
    "standings = pd.read_csv('./data/standings', index_col=0)\n",
    "league_assists = pd.read_csv('./data/assists_value', index_col=0)\n",
    "league_turnovers = pd.read_csv('./data/turnovers', index_col=0)"
   ]
  },
  {
   "cell_type": "markdown",
   "metadata": {},
   "source": [
    "# Creating Points Per Possession\n",
    "## Calculating Points Per Assist (Expected Value of an Assist)"
   ]
  },
  {
   "cell_type": "markdown",
   "metadata": {},
   "source": [
    "$ \\dfrac{\\text{3FGM}_{AST}}{\\text{FGA}} = \\text{3FG%} * \\text{3FGA%} * \\text{3FG}_{\\%AST} $ "
   ]
  },
  {
   "cell_type": "code",
   "execution_count": 3,
   "metadata": {},
   "outputs": [],
   "source": [
    "# Saving assisted 3s rates\n",
    "assisted_3 = league_assists['3P.1'] * league_assists['3P'] * league_assists['%Ast\\'d.1']"
   ]
  },
  {
   "cell_type": "code",
   "execution_count": 4,
   "metadata": {},
   "outputs": [
    {
     "data": {
      "text/plain": [
       "2018    0.101255\n",
       "2017    0.094462\n",
       "2016    0.084344\n",
       "2015    0.079073\n",
       "2014    0.078042\n",
       "2013    0.074239\n",
       "2012    0.066491\n",
       "2011    0.068349\n",
       "dtype: float64"
      ]
     },
     "execution_count": 4,
     "metadata": {},
     "output_type": "execute_result"
    }
   ],
   "source": [
    "# Looking at the trends in assisted 3 pointers\n",
    "assisted_3"
   ]
  },
  {
   "cell_type": "markdown",
   "metadata": {},
   "source": [
    "$ \\dfrac{\\text{2FGM}_{AST}}{\\text{FGA}} = \\text{2FG%} * \\text{2FGA%} * \\text{2FG}_{\\%AST} $  "
   ]
  },
  {
   "cell_type": "code",
   "execution_count": 5,
   "metadata": {},
   "outputs": [],
   "source": [
    "# Saving assisted 2s rates\n",
    "assisted_2 = league_assists['2P.1'] * league_assists['2P'] * league_assists['%Ast\\'d']"
   ]
  },
  {
   "cell_type": "code",
   "execution_count": 6,
   "metadata": {},
   "outputs": [
    {
     "data": {
      "text/plain": [
       "2018    0.168727\n",
       "2017    0.170306\n",
       "2016    0.179043\n",
       "2015    0.184610\n",
       "2014    0.187313\n",
       "2013    0.195613\n",
       "2012    0.191245\n",
       "2011    0.196263\n",
       "dtype: float64"
      ]
     },
     "execution_count": 6,
     "metadata": {},
     "output_type": "execute_result"
    }
   ],
   "source": [
    "# Looking at the trends in assisted 2 pointers\n",
    "assisted_2"
   ]
  },
  {
   "cell_type": "markdown",
   "metadata": {},
   "source": [
    "$ \\dfrac{\\text{FGM}_{AST}}{\\text{FGA}} = \\dfrac{\\text{3FGM}_{AST}}{\\text{FGA}} + \\dfrac{\\text{2FGM}_{AST}}{\\text{FGA}}$  "
   ]
  },
  {
   "cell_type": "code",
   "execution_count": 7,
   "metadata": {},
   "outputs": [],
   "source": [
    "# Saving assist rates\n",
    "assisted_fg = assisted_2 + assisted_3"
   ]
  },
  {
   "cell_type": "markdown",
   "metadata": {},
   "source": [
    "$ EV(\\text{AST}) = \\dfrac{\\text{3FGM}_{AST} * 3 + \\text{2FGM}_{AST} * 2}{\\text{FGM}_{AST}} = \\dfrac{\\frac{\\text{3FGM}_{\\text{AST}}}{\\text{FGA}} * 3 + \\frac{\\text{2FGM}_{\\text{AST}}}{\\text{FGA}} * 2}{\\frac{\\text{FGM}_{\\text{AST}}}{\\text{FGA}}}$  "
   ]
  },
  {
   "cell_type": "code",
   "execution_count": 8,
   "metadata": {},
   "outputs": [],
   "source": [
    "# Saving the value of an assist for each year\n",
    "assist_value = (assisted_3 * 3 + assisted_2 * 2) / assisted_fg"
   ]
  },
  {
   "cell_type": "code",
   "execution_count": 9,
   "metadata": {},
   "outputs": [
    {
     "data": {
      "text/plain": [
       "2018    2.375044\n",
       "2017    2.356773\n",
       "2016    2.320228\n",
       "2015    2.299880\n",
       "2014    2.294104\n",
       "2013    2.275110\n",
       "2012    2.257981\n",
       "2011    2.258300\n",
       "dtype: float64"
      ]
     },
     "execution_count": 9,
     "metadata": {},
     "output_type": "execute_result"
    }
   ],
   "source": [
    "# Looking at trends in the value of an assist\n",
    "assist_value"
   ]
  },
  {
   "cell_type": "markdown",
   "metadata": {},
   "source": [
    "## Calculating Points Per Turnover (Expected Value of a Turnover)"
   ]
  },
  {
   "cell_type": "markdown",
   "metadata": {},
   "source": [
    "$ EV(\\text{TO}) = \\dfrac{\\sum{PTS_{TO}}}{\\sum{TO}} $"
   ]
  },
  {
   "cell_type": "code",
   "execution_count": 10,
   "metadata": {},
   "outputs": [],
   "source": [
    "# Saving the value of a turnover\n",
    "turnover_value = league_turnovers['PTS_OFF_TOV'] / league_turnovers['TOV']"
   ]
  },
  {
   "cell_type": "code",
   "execution_count": 11,
   "metadata": {
    "scrolled": true
   },
   "outputs": [
    {
     "data": {
      "text/plain": [
       "2018    1.153810\n",
       "2017    1.154011\n",
       "2016    1.132762\n",
       "2015    1.126335\n",
       "2014    1.136581\n",
       "2013    1.139061\n",
       "2012    1.122258\n",
       "2011    1.137810\n",
       "dtype: float64"
      ]
     },
     "execution_count": 11,
     "metadata": {},
     "output_type": "execute_result"
    }
   ],
   "source": [
    "# Looking at trends in the value of turnovers\n",
    "turnover_value"
   ]
  },
  {
   "cell_type": "markdown",
   "metadata": {},
   "source": [
    "## Creating Points Per Play"
   ]
  },
  {
   "cell_type": "markdown",
   "metadata": {},
   "source": [
    "#### Shooting Plays"
   ]
  },
  {
   "cell_type": "markdown",
   "metadata": {},
   "source": [
    "$ EV(FGA) = \\text{EFG%} * 2  $  \n",
    "\n",
    "$ FGA_{rate} = \\dfrac{FGA}{MIN} $"
   ]
  },
  {
   "cell_type": "code",
   "execution_count": 12,
   "metadata": {},
   "outputs": [],
   "source": [
    "# Calculating the expected value (in points) and rate of shooting plays\n",
    "master_df['CATCH_SHOOT_EV'] = master_df['CATCH_SHOOT_EFG_PCT'] * 2\n",
    "master_df['CATCH_SHOOT_RATE'] = master_df['CATCH_SHOOT_FGA'] / master_df['MIN']\n",
    "master_df['PULL_UP_EV'] = master_df['PULL_UP_EFG_PCT'] * 2\n",
    "master_df['PULL_UP_RATE'] = master_df['PULL_UP_FGA'] / master_df['MIN']"
   ]
  },
  {
   "cell_type": "markdown",
   "metadata": {},
   "source": [
    "#### Drives and Post-Ups"
   ]
  },
  {
   "cell_type": "code",
   "execution_count": 13,
   "metadata": {},
   "outputs": [],
   "source": [
    "# Function for mapping points from a category (assists, TO, etc.) to individual players\n",
    "def pts_generated(series, values, play, category):\n",
    "    \n",
    "    # Calculating the points from the category using the value of that category in that season\n",
    "    season = series['SEASON']\n",
    "    points = values[season] * series[play + '_' + category]\n",
    "    \n",
    "    return points"
   ]
  },
  {
   "cell_type": "markdown",
   "metadata": {},
   "source": [
    "$ EV(\\text{PLAY}) = \\dfrac{\\text{PTS}_{play} + \\text{AST}_{play} * EV(\\text{AST}) - \\text{TO}_{play} * EV(\\text{TO})}{(\\text{FGA}_{play} + \\text{FTA}_{play} - \\text{PF}_{play}) + \\text{AST}_{play} * \\frac{\\text{AST}_{potential}}{\\text{AST}} + \\text{TO}_{play}}$  \n",
    "<br>\n",
    "<br>\n",
    "$ PLAY_{rate} = \\dfrac{(\\text{FGA}_{play} + \\text{FTA}_{play} - \\text{PF}_{play}) + \\text{AST}_{play} * \\frac{\\text{AST}_{potential}}{\\text{AST}} + \\text{TO}_{play}}{MIN}$\n",
    "\n",
    "This was a situation where I had to decide between using a player's assist to potential assist ratio versus the league ratio. Players on teams with poor shooting will be undervalued, but quality of player passes will be valued.\n",
    "\n",
    "<sub>* These are significantly more complicated because there are many more ways for the play to end.</sub>"
   ]
  },
  {
   "cell_type": "code",
   "execution_count": 14,
   "metadata": {},
   "outputs": [],
   "source": [
    "# Calculating the expected value and rate of drives\n",
    "drive_assist_points = master_df.apply(pts_generated, values=assist_value, play='DRIVE', category='AST', axis=1)\n",
    "drive_turnover_points = master_df.apply(pts_generated, values=turnover_value, play='DRIVE', category='TOV', axis=1)\n",
    "drive_shots = master_df['DRIVE_FGA'] + master_df['DRIVE_FTA'] - master_df['DRIVE_PF']\n",
    "drive_total_points = master_df['DRIVE_PTS'] + drive_assist_points - drive_turnover_points\n",
    "drive_potential_assists = master_df['DRIVE_AST'] * master_df['POTENTIAL_AST'] / master_df['AST']\n",
    "drive_possessions = drive_shots + drive_potential_assists + master_df['DRIVE_TOV']\n",
    "master_df['DRIVE_EV'] = drive_total_points/drive_possessions\n",
    "master_df['DRIVE_RATE'] = drive_possessions/master_df['MIN']"
   ]
  },
  {
   "cell_type": "code",
   "execution_count": 15,
   "metadata": {},
   "outputs": [],
   "source": [
    "# Calculating the expected value and rate of post-ups\n",
    "post_assist_points = master_df.apply(pts_generated, values=assist_value, play='POST_TOUCH', category='AST', axis=1)\n",
    "post_turnover_points = master_df.apply(pts_generated, values=turnover_value, play='POST_TOUCH', category='TOV', axis=1)\n",
    "post_total_points = master_df['POST_TOUCH_PTS'] + post_assist_points - post_turnover_points\n",
    "post_shots = master_df['POST_TOUCH_FGA'] + master_df['POST_TOUCH_FTA'] - master_df['POST_TOUCH_FOULS']\n",
    "post_potential_assists = master_df['POST_TOUCH_AST'] * master_df['POTENTIAL_AST'] / master_df['AST']\n",
    "post_possessions = post_shots + post_potential_assists + master_df['POST_TOUCH_TOV']\n",
    "master_df['POST_TOUCH_EV'] = post_total_points/post_possessions\n",
    "master_df['POST_TOUCH_RATE'] = post_possessions/master_df['MIN']"
   ]
  },
  {
   "cell_type": "code",
   "execution_count": 16,
   "metadata": {},
   "outputs": [],
   "source": [
    "# Saving the expected value (in points) per game on drives and post-ups\n",
    "master_df['DRIVE_EV_GAME'] = drive_total_points\n",
    "master_df['POST_TOUCH_EV_GAME'] = post_total_points"
   ]
  },
  {
   "cell_type": "markdown",
   "metadata": {},
   "source": [
    "Create categories\n",
    "\n",
    "Plays and categories\n",
    "Catch and Shoot and Pull-Ups\n",
    "- points per shot\n",
    "- attempts per minute\n",
    "\n",
    "\n",
    "Drives and Post-Ups\n",
    "- points per play\n",
    "- drives that end in points/turnovers per minute\n",
    "\n",
    "Create teams\n",
    "\n",
    "Add points per minute (points per play * attempts per minute) during group by\n",
    "\n",
    "Model\n",
    "\n",
    "Model...yup"
   ]
  },
  {
   "cell_type": "markdown",
   "metadata": {},
   "source": [
    "# Creating Teams DataFrame"
   ]
  },
  {
   "cell_type": "code",
   "execution_count": 17,
   "metadata": {},
   "outputs": [],
   "source": [
    "# Creating a data frame with team points in 4 categories for each year\n",
    "columns = ['SEASON', 'TEAM_ABBREVIATION', 'DRIVE_EV_GAME', 'POST_TOUCH_EV_GAME', 'CATCH_SHOOT_PTS', 'PULL_UP_PTS']\n",
    "teams_df = master_df.groupby(['SEASON', 'TEAM_ABBREVIATION'], as_index=False).sum()[columns]"
   ]
  },
  {
   "cell_type": "code",
   "execution_count": 18,
   "metadata": {},
   "outputs": [],
   "source": [
    "# Combining the Charlote teams since the master dictionary only has the same abbreviation for both teams\n",
    "# This won't cause a problem since it is the same team\n",
    "standings['Charlotte Hornets'] = standings['Charlotte Hornets'].fillna(0) + standings['Charlotte Bobcats'].fillna(0)\n",
    "standings.drop(columns='Charlotte Bobcats', inplace=True)"
   ]
  },
  {
   "cell_type": "code",
   "execution_count": 21,
   "metadata": {},
   "outputs": [],
   "source": [
    "# Function to add the team record\n",
    "def add_team_record(series, standings, name_dict):\n",
    "    \n",
    "    # Saving the team name and season\n",
    "    team = series['TEAM_ABBREVIATION']\n",
    "    name = name_dict[team]\n",
    "    year = series['SEASON']\n",
    "    \n",
    "    # Determining their record\n",
    "    record = standings.loc[year, name]\n",
    "    \n",
    "    return record"
   ]
  },
  {
   "cell_type": "code",
   "execution_count": 27,
   "metadata": {
    "scrolled": true
   },
   "outputs": [],
   "source": [
    "# Saving the team record each year and making it into a win percentage\n",
    "teams_df['RECORD'] = teams_df.apply(add_team_record, standings=standings, name_dict=team_map, axis=1)\n",
    "teams_df['RECORD'] = teams_df.apply(lambda x: x['RECORD']/82 if x['SEASON']!=2012 else x['RECORD']/66, axis=1)"
   ]
  },
  {
   "cell_type": "code",
   "execution_count": 55,
   "metadata": {},
   "outputs": [],
   "source": [
    "# Removing the parts that have no data...\n",
    "teams_df = teams_df[teams_df['SEASON'].isin(range(2014, 2019))].reset_index(drop=True)"
   ]
  },
  {
   "cell_type": "markdown",
   "metadata": {},
   "source": [
    "# Model"
   ]
  },
  {
   "cell_type": "code",
   "execution_count": 154,
   "metadata": {},
   "outputs": [],
   "source": [
    "# Creating the training and testing data\n",
    "x_columns = ['DRIVE_EV_GAME', 'POST_TOUCH_EV_GAME', 'CATCH_SHOOT_PTS', 'PULL_UP_PTS']\n",
    "X_train, X_test, y_train, y_test = train_test_split(teams_df[x_columns], teams_df['RECORD']*82, test_size=.2)"
   ]
  },
  {
   "cell_type": "code",
   "execution_count": 146,
   "metadata": {},
   "outputs": [],
   "source": [
    "mae = make_scorer(mean_absolute_error)"
   ]
  },
  {
   "cell_type": "code",
   "execution_count": 166,
   "metadata": {},
   "outputs": [],
   "source": [
    "X_train = sm.add_constant(X_train)\n",
    "X_test = sm.add_constant(X_test)"
   ]
  },
  {
   "cell_type": "code",
   "execution_count": 182,
   "metadata": {},
   "outputs": [],
   "source": [
    "glm = sm.OLS(y_train, X_train)"
   ]
  },
  {
   "cell_type": "code",
   "execution_count": 183,
   "metadata": {},
   "outputs": [
    {
     "data": {
      "text/html": [
       "<table class=\"simpletable\">\n",
       "<caption>OLS Regression Results</caption>\n",
       "<tr>\n",
       "  <th>Dep. Variable:</th>         <td>RECORD</td>      <th>  R-squared:         </th> <td>   0.117</td>\n",
       "</tr>\n",
       "<tr>\n",
       "  <th>Model:</th>                   <td>OLS</td>       <th>  Adj. R-squared:    </th> <td>   0.087</td>\n",
       "</tr>\n",
       "<tr>\n",
       "  <th>Method:</th>             <td>Least Squares</td>  <th>  F-statistic:       </th> <td>   3.821</td>\n",
       "</tr>\n",
       "<tr>\n",
       "  <th>Date:</th>             <td>Tue, 16 Oct 2018</td> <th>  Prob (F-statistic):</th>  <td>0.00593</td>\n",
       "</tr>\n",
       "<tr>\n",
       "  <th>Time:</th>                 <td>18:59:41</td>     <th>  Log-Likelihood:    </th> <td> -464.33</td>\n",
       "</tr>\n",
       "<tr>\n",
       "  <th>No. Observations:</th>      <td>   120</td>      <th>  AIC:               </th> <td>   938.7</td>\n",
       "</tr>\n",
       "<tr>\n",
       "  <th>Df Residuals:</th>          <td>   115</td>      <th>  BIC:               </th> <td>   952.6</td>\n",
       "</tr>\n",
       "<tr>\n",
       "  <th>Df Model:</th>              <td>     4</td>      <th>                     </th>     <td> </td>   \n",
       "</tr>\n",
       "<tr>\n",
       "  <th>Covariance Type:</th>      <td>nonrobust</td>    <th>                     </th>     <td> </td>   \n",
       "</tr>\n",
       "</table>\n",
       "<table class=\"simpletable\">\n",
       "<tr>\n",
       "           <td></td>             <th>coef</th>     <th>std err</th>      <th>t</th>      <th>P>|t|</th>  <th>[0.025</th>    <th>0.975]</th>  \n",
       "</tr>\n",
       "<tr>\n",
       "  <th>const</th>              <td>   15.7635</td> <td>    8.506</td> <td>    1.853</td> <td> 0.066</td> <td>   -1.084</td> <td>   32.611</td>\n",
       "</tr>\n",
       "<tr>\n",
       "  <th>DRIVE_EV_GAME</th>      <td>   -0.0208</td> <td>    0.223</td> <td>   -0.093</td> <td> 0.926</td> <td>   -0.462</td> <td>    0.421</td>\n",
       "</tr>\n",
       "<tr>\n",
       "  <th>POST_TOUCH_EV_GAME</th> <td>   -0.1474</td> <td>    0.319</td> <td>   -0.461</td> <td> 0.645</td> <td>   -0.780</td> <td>    0.485</td>\n",
       "</tr>\n",
       "<tr>\n",
       "  <th>CATCH_SHOOT_PTS</th>    <td>    0.6760</td> <td>    0.205</td> <td>    3.300</td> <td> 0.001</td> <td>    0.270</td> <td>    1.082</td>\n",
       "</tr>\n",
       "<tr>\n",
       "  <th>PULL_UP_PTS</th>        <td>    0.2121</td> <td>    0.261</td> <td>    0.814</td> <td> 0.417</td> <td>   -0.304</td> <td>    0.728</td>\n",
       "</tr>\n",
       "</table>\n",
       "<table class=\"simpletable\">\n",
       "<tr>\n",
       "  <th>Omnibus:</th>       <td> 0.339</td> <th>  Durbin-Watson:     </th> <td>   1.902</td>\n",
       "</tr>\n",
       "<tr>\n",
       "  <th>Prob(Omnibus):</th> <td> 0.844</td> <th>  Jarque-Bera (JB):  </th> <td>   0.505</td>\n",
       "</tr>\n",
       "<tr>\n",
       "  <th>Skew:</th>          <td>-0.049</td> <th>  Prob(JB):          </th> <td>   0.777</td>\n",
       "</tr>\n",
       "<tr>\n",
       "  <th>Kurtosis:</th>      <td> 2.697</td> <th>  Cond. No.          </th> <td>    395.</td>\n",
       "</tr>\n",
       "</table><br/><br/>Warnings:<br/>[1] Standard Errors assume that the covariance matrix of the errors is correctly specified."
      ],
      "text/plain": [
       "<class 'statsmodels.iolib.summary.Summary'>\n",
       "\"\"\"\n",
       "                            OLS Regression Results                            \n",
       "==============================================================================\n",
       "Dep. Variable:                 RECORD   R-squared:                       0.117\n",
       "Model:                            OLS   Adj. R-squared:                  0.087\n",
       "Method:                 Least Squares   F-statistic:                     3.821\n",
       "Date:                Tue, 16 Oct 2018   Prob (F-statistic):            0.00593\n",
       "Time:                        18:59:41   Log-Likelihood:                -464.33\n",
       "No. Observations:                 120   AIC:                             938.7\n",
       "Df Residuals:                     115   BIC:                             952.6\n",
       "Df Model:                           4                                         \n",
       "Covariance Type:            nonrobust                                         \n",
       "======================================================================================\n",
       "                         coef    std err          t      P>|t|      [0.025      0.975]\n",
       "--------------------------------------------------------------------------------------\n",
       "const                 15.7635      8.506      1.853      0.066      -1.084      32.611\n",
       "DRIVE_EV_GAME         -0.0208      0.223     -0.093      0.926      -0.462       0.421\n",
       "POST_TOUCH_EV_GAME    -0.1474      0.319     -0.461      0.645      -0.780       0.485\n",
       "CATCH_SHOOT_PTS        0.6760      0.205      3.300      0.001       0.270       1.082\n",
       "PULL_UP_PTS            0.2121      0.261      0.814      0.417      -0.304       0.728\n",
       "==============================================================================\n",
       "Omnibus:                        0.339   Durbin-Watson:                   1.902\n",
       "Prob(Omnibus):                  0.844   Jarque-Bera (JB):                0.505\n",
       "Skew:                          -0.049   Prob(JB):                        0.777\n",
       "Kurtosis:                       2.697   Cond. No.                         395.\n",
       "==============================================================================\n",
       "\n",
       "Warnings:\n",
       "[1] Standard Errors assume that the covariance matrix of the errors is correctly specified.\n",
       "\"\"\""
      ]
     },
     "execution_count": 183,
     "metadata": {},
     "output_type": "execute_result"
    }
   ],
   "source": [
    "result = glm.fit()\n",
    "result.summary()"
   ]
  },
  {
   "cell_type": "markdown",
   "metadata": {},
   "source": [
    "### NEXT STEPS\n",
    "Import defensive stats into this and see if it will improve. There is some good news here which is that defense is not secretly very where correlated with these stats.\n",
    "\n",
    "Make conclusions\n",
    "\n",
    "Save master_df without the missing data\n",
    "Save teams_df"
   ]
  },
  {
   "cell_type": "code",
   "execution_count": null,
   "metadata": {},
   "outputs": [],
   "source": []
  }
 ],
 "metadata": {
  "kernelspec": {
   "display_name": "Python [conda env:dsi]",
   "language": "python",
   "name": "conda-env-dsi-py"
  },
  "language_info": {
   "codemirror_mode": {
    "name": "ipython",
    "version": 3
   },
   "file_extension": ".py",
   "mimetype": "text/x-python",
   "name": "python",
   "nbconvert_exporter": "python",
   "pygments_lexer": "ipython3",
   "version": "3.6.5"
  }
 },
 "nbformat": 4,
 "nbformat_minor": 2
}
